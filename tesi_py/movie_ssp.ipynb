{
 "cells": [
  {
   "cell_type": "code",
   "execution_count": 1,
   "id": "searching-attitude",
   "metadata": {},
   "outputs": [],
   "source": [
    "import os \n",
    "import astropy.io.fits as fits\n",
    "import numpy as np\n",
    "import matplotlib.pyplot as plt"
   ]
  },
  {
   "cell_type": "code",
   "execution_count": 11,
   "id": "according-turkey",
   "metadata": {},
   "outputs": [],
   "source": [
    "homedir=os.getenv('HOME')\n",
    "workdir=homedir+'/Desktop/TESI/movie_ssp/'\n",
    "fname_ssp=homedir+'/Desktop/TESI/models/ssp/'+'bc2003_hr_xmiless_m{:02d}_chab_ssp_idx.fits'\n",
    "fname_ssp_par=homedir+'/Desktop/TESI/models/ssp/'+'bc2003_hr_xmiless_m{:02d}_chab_ssp_ised.fits'\n",
    "\n",
    "SSP=[22,32,42,52,62,72]\n",
    "n_ssp=np.size(SSP)\n",
    "\n",
    "d4000nssp_matrix=np.ones([221,6])\n",
    "hghdssp_matrix=np.ones([221,6])\n",
    "agessp_matrix=np.ones([221,6])\n",
    "\n",
    "for i in range (0, n_ssp):\n",
    "    hdul_ssp=fits.open(fname_ssp.format(SSP[i]))\n",
    "    hdul_ssp_par=fits.open(fname_ssp_par.format(SSP[i]))\n",
    "\n",
    "    d4000nssp_matrix[...,i]=hdul_ssp[1].data['D4000n']\n",
    "    hghdssp_matrix[...,i]=hdul_ssp[1].data['HdHg']\n",
    "    agessp_matrix[...,i]=hdul_ssp_par[2].data['age']"
   ]
  },
  {
   "cell_type": "code",
   "execution_count": 4,
   "id": "controlling-chosen",
   "metadata": {},
   "outputs": [
    {
     "data": {
      "text/plain": [
       "(221,)"
      ]
     },
     "execution_count": 4,
     "metadata": {},
     "output_type": "execute_result"
    }
   ],
   "source": [
    "np.shape(d4000nssp_matrix[...,1])"
   ]
  },
  {
   "cell_type": "code",
   "execution_count": 18,
   "id": "agreed-shame",
   "metadata": {},
   "outputs": [
    {
     "data": {
      "text/plain": [
       "<matplotlib.collections.PathCollection at 0x7fbd9caf6fd0>"
      ]
     },
     "execution_count": 18,
     "metadata": {},
     "output_type": "execute_result"
    },
    {
     "data": {
      "image/png": "[encoded data removed]",
      "text/plain": [
       "<Figure size 432x288 with 1 Axes>"
      ]
     },
     "metadata": {
      "needs_background": "light"
     },
     "output_type": "display_data"
    }
   ],
   "source": [
    "dt=1.0*10**6\n",
    "age_interpol=np.interolate()\n",
    "plt.plot(d4000nssp_matrix[...,4], hghdssp_matrix[...,4], color='red')\n",
    "plt.scatter(d4000nssp_matrix[170,4], hghdssp_matrix[170,4], color='red')"
   ]
  },
  {
   "cell_type": "code",
   "execution_count": null,
   "id": "polished-upper",
   "metadata": {},
   "outputs": [],
   "source": []
  }
 ],
 "metadata": {
  "kernelspec": {
   "display_name": "Python 3",
   "language": "python",
   "name": "python3"
  },
  "language_info": {
   "codemirror_mode": {
    "name": "ipython",
    "version": 3
   },
   "file_extension": ".py",
   "mimetype": "text/x-python",
   "name": "python",
   "nbconvert_exporter": "python",
   "pygments_lexer": "ipython3",
   "version": "3.8.8"
  }
 },
 "nbformat": 4,
 "nbformat_minor": 5
}
