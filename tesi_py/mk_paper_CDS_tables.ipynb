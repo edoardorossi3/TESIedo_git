{
 "cells": [
  {
   "cell_type": "code",
   "execution_count": 6,
   "metadata": {},
   "outputs": [],
   "source": [
    "import astropy.io.fits as fits\n",
    "import astropy.io as astropyio\n",
    "import numpy as np\n",
    "import matplotlib.pyplot as plt\n",
    "from astropy import table\n",
    "from astropy.io import fits\n"
   ]
  },
  {
   "cell_type": "code",
   "execution_count": 3,
   "metadata": {},
   "outputs": [],
   "source": [
    "d_age50=4.15/83\n",
    "age50_min=6\n",
    "age50_max=10.15\n",
    "N_bins=83\n",
    "vector=np.arange(start=age50_min, stop=age50_max, step=d_age50)\n",
    "vector=np.append(vector, age50_max)\n",
    "age_50mid=np.zeros(N_bins)\n",
    "\n",
    "for i in range(0, N_bins):\n",
    "    age_50mid[i]=(vector[i]+vector[i+1])/2\n",
    "    "
   ]
  },
  {
   "cell_type": "code",
   "execution_count": 17,
   "metadata": {},
   "outputs": [
    {
     "data": {
      "text/plain": [
       "XTENSION= 'BINTABLE'           / binary table extension                         \n",
       "BITPIX  =                    8 / array data type                                \n",
       "NAXIS   =                    2 / number of array dimensions                     \n",
       "NAXIS1  =                  120 / length of dimension 1                          \n",
       "NAXIS2  =                   83 / length of dimension 2                          \n",
       "PCOUNT  =                    0 / number of group parameters                     \n",
       "GCOUNT  =                    1 / number of groups                               \n",
       "TFIELDS =                    3 / number of table fields                         \n",
       "TTYPE1  = 'logage50_start'                                                      \n",
       "TFORM1  = '10E     '                                                            \n",
       "TTYPE2  = 'logage50_end'                                                        \n",
       "TFORM2  = '10E     '                                                            \n",
       "TTYPE3  = 'logage50_mid'                                                        \n",
       "TFORM3  = '10E     '                                                            \n",
       "COMMENT Log Age50 grid valid for all files                                      "
      ]
     },
     "execution_count": 17,
     "metadata": {},
     "output_type": "execute_result"
    }
   ],
   "source": [
    "hdu.header"
   ]
  },
  {
   "cell_type": "code",
   "execution_count": 23,
   "metadata": {},
   "outputs": [
    {
     "data": {
      "text/plain": [
       "array([ 6.  ,  6.05,  6.1 ,  6.15,  6.2 ,  6.25,  6.3 ,  6.35,  6.4 ,\n",
       "        6.45,  6.5 ,  6.55,  6.6 ,  6.65,  6.7 ,  6.75,  6.8 ,  6.85,\n",
       "        6.9 ,  6.95,  7.  ,  7.05,  7.1 ,  7.15,  7.2 ,  7.25,  7.3 ,\n",
       "        7.35,  7.4 ,  7.45,  7.5 ,  7.55,  7.6 ,  7.65,  7.7 ,  7.75,\n",
       "        7.8 ,  7.85,  7.9 ,  7.95,  8.  ,  8.05,  8.1 ,  8.15,  8.2 ,\n",
       "        8.25,  8.3 ,  8.35,  8.4 ,  8.45,  8.5 ,  8.55,  8.6 ,  8.65,\n",
       "        8.7 ,  8.75,  8.8 ,  8.85,  8.9 ,  8.95,  9.  ,  9.05,  9.1 ,\n",
       "        9.15,  9.2 ,  9.25,  9.3 ,  9.35,  9.4 ,  9.45,  9.5 ,  9.55,\n",
       "        9.6 ,  9.65,  9.7 ,  9.75,  9.8 ,  9.85,  9.9 ,  9.95, 10.  ,\n",
       "       10.05, 10.1 , 10.15])"
      ]
     },
     "execution_count": 23,
     "metadata": {},
     "output_type": "execute_result"
    }
   ],
   "source": [
    "vector[:]"
   ]
  },
  {
   "cell_type": "code",
   "execution_count": 35,
   "metadata": {},
   "outputs": [],
   "source": [
    "# Create the age50 fits table\n",
    "age50_start_col = fits.Column(name='logage50_start', format='1E',array=vector[:-1])\n",
    "age50_end_col = fits.Column(name='logage50_end', format='1E',array=vector[1:])\n",
    "age50_mid_col = fits.Column(name='logage50_mid', format='1E',array=age_50mid)\n",
    "hdu = fits.BinTableHDU.from_columns([age50_start_col,age50_end_col,age50_mid_col])\n",
    "hdu.header['COMMENT']='Log Age50 grid valid for all files'\n",
    "work_dir='/Users/zibetti/ownCloud/Tesi_ERossi/results/'\n",
    "hdu.writeto(work_dir+'age50_grid.fits',overwrite=True)"
   ]
  },
  {
   "cell_type": "code",
   "execution_count": 39,
   "metadata": {},
   "outputs": [],
   "source": [
    "# Zprefix='Z42'\n",
    "# Ztitle='$0.2 \\cdot$'+'Z$_{\\odot}'\n",
    "# colname='dage_n_lim_m42'\n",
    "# outcsv='figA1_tab.csv'\n",
    "Zprefix='Z62'\n",
    "Ztitle='Z$_{\\odot}'\n",
    "colname='dage_n_lim_m62'\n",
    "outcsv='fig4_tab.csv'\n",
    "\n",
    "#work_dir='/export/home/extragal/zibetti/ownCloud_Arcetri/SteMaGE/data/SEDlibraries/Sandage_v4.1_Zfix_noburst_cb16MILES_1M/'\n",
    "work_dir='/Users/zibetti/ownCloud/Tesi_ERossi/results/'\n",
    "time_res_file_snr5='Time_resol_Zfix1M_SNR5_tot.fits'\n",
    "time_res_file_full_snr5='Time_resol_full_'+Zprefix+'fix1M_SNR5.fits'\n",
    "time_res_file_full_wd_snr5='Time_resol_full_widerangewl_'+Zprefix+'fix1M_SNR5.fits'\n",
    "time_res_file_full_nonorm_snr5='Time_resol_full_nonorm_'+Zprefix+'fix1M_SNR5.fits'\n",
    "time_res_file_full_nonorm_wd_snr5='Time_resol_full_nonorm_widerangewl_'+Zprefix+'fix1M_SNR5.fits'\n",
    "\n",
    "time_res_file_snr10='Time_resol_Zfix1M_SNR10_tot.fits'\n",
    "time_res_file_full_snr10='Time_resol_full_'+Zprefix+'fix1M_SNR10.fits'\n",
    "time_res_file_full_wd_snr10='Time_resol_full_widerangewl_'+Zprefix+'fix1M_SNR10.fits'\n",
    "time_res_file_full_nonorm_snr10='Time_resol_full_nonorm_'+Zprefix+'fix1M_SNR10.fits'\n",
    "time_res_file_full_nonorm_wd_snr10='Time_resol_full_nonorm_widerangewl_'+Zprefix+'fix1M_SNR10.fits'\n",
    "\n",
    "time_res_file_snr20='Time_resol_Zfix1M_SNR20_tot.fits'\n",
    "time_res_file_full_snr20='Time_resol_full_'+Zprefix+'fix1M_SNR20.fits'\n",
    "time_res_file_full_wd_snr20='Time_resol_full_widerangewl_'+Zprefix+'fix1M_SNR20.fits'\n",
    "time_res_file_full_nonorm_snr20='Time_resol_full_nonorm_'+Zprefix+'fix1M_SNR20.fits'\n",
    "time_res_file_full_nonorm_wd_snr20='Time_resol_full_nonorm_widerangewl_'+Zprefix+'fix1M_SNR20.fits'\n",
    "\n",
    "time_res_file_snr100='Time_resol_Zfix1M_SNR100_tot.fits'\n",
    "time_res_file_full_wd_snr100='Time_resol_full_widerangewl_'+Zprefix+'fix1M_SNR100.fits'\n",
    "time_res_file_full_snr100='Time_resol_full_'+Zprefix+'fix1M_SNR100.fits'\n",
    "time_res_file_full_nonorm_snr100='Time_resol_full_nonorm_'+Zprefix+'fix1M_SNR100.fits'\n",
    "time_res_file_full_nonorm_wd_snr100='Time_resol_full_nonorm_widerangewl_'+Zprefix+'fix1M_SNR100.fits'\n"
   ]
  },
  {
   "cell_type": "code",
   "execution_count": 40,
   "metadata": {},
   "outputs": [],
   "source": [
    "hdul_snr5=fits.open(work_dir+time_res_file_snr5)\n",
    "time_res_snr5=hdul_snr5[1].data['Log_d1090n50_min_'+Zprefix]\n",
    "hdul_full_snr5=fits.open(work_dir+time_res_file_full_snr5)\n",
    "time_resol_full_snr5=hdul_full_snr5[1].data\n",
    "hdul_full_wd_snr5=fits.open(work_dir+time_res_file_full_wd_snr5)\n",
    "time_resol_full_wd_snr5=hdul_full_wd_snr5[1].data\n",
    "hdul_full_nonorm_snr5=fits.open(work_dir+time_res_file_full_nonorm_snr5)\n",
    "time_resol_full_nonorm_snr5=hdul_full_nonorm_snr5[1].data\n",
    "hdul_full_nonorm_wd_snr5=fits.open(work_dir+time_res_file_full_nonorm_wd_snr5)\n",
    "time_resol_full_nonorm_wd_snr5=hdul_full_nonorm_wd_snr5[1].data\n",
    "\n",
    "hdul_snr10=fits.open(work_dir+time_res_file_snr10)\n",
    "time_res_snr10=hdul_snr10[1].data['Log_d1090n50_min_'+Zprefix]\n",
    "hdul_full_snr10=fits.open(work_dir+time_res_file_full_snr10)\n",
    "time_resol_full_snr10=hdul_full_snr10[1].data\n",
    "hdul_full_wd_snr10=fits.open(work_dir+time_res_file_full_wd_snr10)\n",
    "time_resol_full_wd_snr10=hdul_full_wd_snr10[1].data\n",
    "hdul_full_nonorm_snr10=fits.open(work_dir+time_res_file_full_nonorm_snr10)\n",
    "time_resol_full_nonorm_snr10=hdul_full_nonorm_snr10[1].data\n",
    "hdul_full_nonorm_wd_snr10=fits.open(work_dir+time_res_file_full_nonorm_wd_snr10)\n",
    "time_resol_full_nonorm_wd_snr10=hdul_full_nonorm_wd_snr10[1].data\n",
    "\n",
    "hdul_snr20=fits.open(work_dir+time_res_file_snr20)\n",
    "time_res_snr20=hdul_snr20[1].data['Log_d1090n50_min_'+Zprefix]\n",
    "hdul_full_snr20=fits.open(work_dir+time_res_file_full_snr20)\n",
    "time_resol_full_snr20=hdul_full_snr20[1].data\n",
    "hdul_full_wd_snr20=fits.open(work_dir+time_res_file_full_wd_snr20)\n",
    "time_resol_full_wd_snr20=hdul_full_wd_snr20[1].data\n",
    "hdul_full_nonorm_snr20=fits.open(work_dir+time_res_file_full_nonorm_snr20)\n",
    "time_resol_full_nonorm_snr20=hdul_full_nonorm_snr20[1].data\n",
    "hdul_full_nonorm_wd_snr20=fits.open(work_dir+time_res_file_full_nonorm_wd_snr20)\n",
    "time_resol_full_nonorm_wd_snr20=hdul_full_nonorm_wd_snr20[1].data\n",
    "\n",
    "hdul_full_snr100=fits.open(work_dir+time_res_file_full_snr100)\n",
    "time_resol_full_snr100=hdul_full_snr100[1].data\n",
    "hdul_snr100=fits.open(work_dir+time_res_file_snr100)\n",
    "time_res_snr100=hdul_snr100[1].data['Log_d1090n50_min_'+Zprefix]\n",
    "hdul_full_wd_snr100=fits.open(work_dir+time_res_file_full_wd_snr100)\n",
    "time_resol_full_wd_snr100=hdul_full_wd_snr100[1].data\n",
    "hdul_full_nonorm_snr100=fits.open(work_dir+time_res_file_full_nonorm_snr100)\n",
    "time_resol_full_nonorm_snr100=hdul_full_nonorm_snr100[1].data\n",
    "hdul_full_nonorm_wd_snr100=fits.open(work_dir+time_res_file_full_nonorm_wd_snr100)\n",
    "time_resol_full_nonorm_wd_snr100=hdul_full_nonorm_wd_snr100[1].data\n"
   ]
  },
  {
   "cell_type": "code",
   "execution_count": 41,
   "metadata": {},
   "outputs": [],
   "source": [
    "fig4_A1_tab=table.Table()\n",
    "fig4_A1_tab['logage50']=age_50mid\n",
    "fig4_A1_tab['logdagen_idxcol_SNR5']=time_res_snr5\n",
    "fig4_A1_tab['logdagen_FS_narrow_SNR5']=time_resol_full_nonorm_snr5[colname]\n",
    "fig4_A1_tab['logdagen_FS_wide_SNR5']=time_resol_full_nonorm_wd_snr5[colname]\n",
    "fig4_A1_tab['logdagen_FS_rect_narrow_SNR5']=time_resol_full_snr5[colname]\n",
    "fig4_A1_tab['logdagen_FS_rect_wide_SNR5']=time_resol_full_wd_snr5[colname]\n",
    "\n",
    "fig4_A1_tab['logdagen_idxcol_SNR10']=time_res_snr10\n",
    "fig4_A1_tab['logdagen_FS_narrow_SNR10']=time_resol_full_nonorm_snr10[colname]\n",
    "fig4_A1_tab['logdagen_FS_wide_SNR10']=time_resol_full_nonorm_wd_snr10[colname]\n",
    "fig4_A1_tab['logdagen_FS_rect_narrow_SNR10']=time_resol_full_snr10[colname]\n",
    "fig4_A1_tab['logdagen_FS_rect_wide_SNR10']=time_resol_full_wd_snr10[colname]\n",
    "\n",
    "fig4_A1_tab['logdagen_idxcol_SNR20']=time_res_snr20\n",
    "fig4_A1_tab['logdagen_FS_narrow_SNR20']=time_resol_full_nonorm_snr20[colname]\n",
    "fig4_A1_tab['logdagen_FS_wide_SNR20']=time_resol_full_nonorm_wd_snr20[colname]\n",
    "fig4_A1_tab['logdagen_FS_rect_narrow_SNR20']=time_resol_full_snr20[colname]\n",
    "fig4_A1_tab['logdagen_FS_rect_wide_SNR20']=time_resol_full_wd_snr20[colname]\n",
    "\n",
    "fig4_A1_tab['logdagen_idxcol_SNR100']=time_res_snr100\n",
    "fig4_A1_tab['logdagen_FS_narrow_SNR100']=time_resol_full_nonorm_snr100[colname]\n",
    "fig4_A1_tab['logdagen_FS_wide_SNR100']=time_resol_full_nonorm_wd_snr100[colname]\n",
    "fig4_A1_tab['logdagen_FS_rect_narrow_SNR100']=time_resol_full_snr100[colname]\n",
    "fig4_A1_tab['logdagen_FS_rect_wide_SNR100']=time_resol_full_wd_snr100[colname]\n",
    "\n",
    "#import sys\n",
    "format_str={}\n",
    "for key in fig4_A1_tab.keys():\n",
    "    format_str[key]='%10.3f'\n",
    "#fig4_A1_tab.write(sys.stdout, format='csv',formats=format_str)#)#, delimiter=',') #\n",
    "fig4_A1_tab.write(work_dir+outcsv,format='csv',formats=format_str,overwrite=True)#)#, delimiter=',') #"
   ]
  },
  {
   "cell_type": "code",
   "execution_count": 28,
   "metadata": {},
   "outputs": [],
   "source": [
    "# Figure 2\n",
    "fig2_tab=table.Table()\n",
    "fig2_tab['logage50']=age_50mid\n",
    "\n",
    "# Left panel - colours only\n",
    "time_res_file_snr20_col='Time_resol_Zfix1M_SNR20_col.fits'\n",
    "hdul_snr20_col=fits.open(work_dir+time_res_file_snr20_col)\n",
    "fig2_tab['logdagen_col_Z002']=hdul_snr20_col[1].data['Log_d1090n50_min_z32']\n",
    "fig2_tab['logdagen_col_Z020']=hdul_snr20_col[1].data['Log_d1090n50_min_z42']\n",
    "fig2_tab['logdagen_col_Z040']=hdul_snr20_col[1].data['Log_d1090n50_min_z52']\n",
    "fig2_tab['logdagen_col_Z100']=hdul_snr20_col[1].data['Log_d1090n50_min_z62']\n",
    "fig2_tab['logdagen_col_Z250']=hdul_snr20_col[1].data['Log_d1090n50_min_z72']\n",
    "hdul_snr20_col.close()\n",
    "\n",
    "# Mid panel - index only\n",
    "time_res_file_snr20_idx='Time_resol_Zfix1M_SNR20_idx.fits'\n",
    "hdul_snr20_idx=fits.open(work_dir+time_res_file_snr20_idx)\n",
    "fig2_tab['logdagen_idx_Z002']=hdul_snr20_idx[1].data['Log_d1090n50_min_z32']\n",
    "fig2_tab['logdagen_idx_Z020']=hdul_snr20_idx[1].data['Log_d1090n50_min_z42']\n",
    "fig2_tab['logdagen_idx_Z040']=hdul_snr20_idx[1].data['Log_d1090n50_min_z52']\n",
    "fig2_tab['logdagen_idx_Z100']=hdul_snr20_idx[1].data['Log_d1090n50_min_z62']\n",
    "fig2_tab['logdagen_idx_Z250']=hdul_snr20_idx[1].data['Log_d1090n50_min_z72']\n",
    "hdul_snr20_idx.close()\n",
    "\n",
    "# Right panel - index+colours only\n",
    "time_res_file_snr20_tot='Time_resol_Zfix1M_SNR20_tot.fits'\n",
    "hdul_snr20_tot=fits.open(work_dir+time_res_file_snr20_tot)\n",
    "fig2_tab['logdagen_all_Z002']=hdul_snr20_tot[1].data['Log_d1090n50_min_z32']\n",
    "fig2_tab['logdagen_all_Z020']=hdul_snr20_tot[1].data['Log_d1090n50_min_z42']\n",
    "fig2_tab['logdagen_all_Z040']=hdul_snr20_tot[1].data['Log_d1090n50_min_z52']\n",
    "fig2_tab['logdagen_all_Z100']=hdul_snr20_tot[1].data['Log_d1090n50_min_z62']\n",
    "fig2_tab['logdagen_all_Z250']=hdul_snr20_tot[1].data['Log_d1090n50_min_z72']\n",
    "hdul_snr20_tot.close()\n",
    "\n",
    "format_str={}\n",
    "for key in fig2_tab.keys():\n",
    "    format_str[key]='%10.3f'\n",
    "outcsv='fig2_tab.csv'\n",
    "fig2_tab.write(work_dir+outcsv,format='csv',formats=format_str,overwrite=True)#)#, delimiter=',') #"
   ]
  },
  {
   "cell_type": "code",
   "execution_count": 34,
   "metadata": {},
   "outputs": [],
   "source": [
    "# Figure 3 -- 1 table per panel\n",
    "\n",
    "Z_list=['z32','z42','z52','z62','z72']\n",
    "Z_suffix=['Z002','Z020','Z040','Z100','Z250']\n",
    "SNR_list=['SNR5','SNR10','SNR20','SNR50','SNR100','SNR200','SNR500']\n",
    "i_Z=0\n",
    "for Z in Z_list:\n",
    "    fig3_tab=table.Table()\n",
    "    fig3_tab['logage50']=age_50mid\n",
    "    time_res_file_col='Time_resol_Zfix1M_SNR20_col.fits'\n",
    "    hdul_col=fits.open(work_dir+time_res_file_col)\n",
    "    fig3_tab['logdagen_col']=hdul_col[1].data['Log_d1090n50_min_'+Z]\n",
    "    hdul_col.close()\n",
    "    for SNR in SNR_list:\n",
    "        time_res_file_all='Time_resol_Zfix1M_'+SNR+'_tot.fits'\n",
    "        hdul_all=fits.open(work_dir+time_res_file_all)\n",
    "        fig3_tab['logdagen_'+SNR]=hdul_all[1].data['Log_d1090n50_min_'+Z]\n",
    "        hdul_all.close()\n",
    "    format_str={}\n",
    "    for key in fig3_tab.keys():\n",
    "        format_str[key]='%10.3f'\n",
    "    outcsv='fig3_'+Z_suffix[i_Z]+'_tab.csv'\n",
    "    fig3_tab.write(work_dir+outcsv,format='csv',formats=format_str,overwrite=True)#)#, delimiter=',') # \n",
    "    i_Z+=1\n"
   ]
  }
 ],
 "metadata": {
  "kernelspec": {
   "display_name": "base",
   "language": "python",
   "name": "python3"
  },
  "language_info": {
   "codemirror_mode": {
    "name": "ipython",
    "version": 3
   },
   "file_extension": ".py",
   "mimetype": "text/x-python",
   "name": "python",
   "nbconvert_exporter": "python",
   "pygments_lexer": "ipython3",
   "version": "3.11.5"
  }
 },
 "nbformat": 4,
 "nbformat_minor": 2
}
