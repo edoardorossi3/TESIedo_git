{
 "cells": [
  {
   "cell_type": "code",
   "execution_count": 1,
   "metadata": {},
   "outputs": [],
   "source": [
    "import numpy as np \n",
    "import astropy.io.fits as fits\n",
    "import matplotlib.pyplot as plt\n",
    "import scipy.stats as stats\n",
    "import matplotlib.cm as cm\n",
    "from matplotlib.colors import LogNorm\n",
    "import os"
   ]
  },
  {
   "cell_type": "code",
   "execution_count": 2,
   "metadata": {},
   "outputs": [],
   "source": [
    "def rms_1684(z):\n",
    "    perc_16=np.percentile(z,16)\n",
    "    perc_84=np.percentile(z,84)\n",
    "    r_1684=(perc_84-perc_16)/2.0\n",
    "    return r_1684"
   ]
  },
  {
   "cell_type": "code",
   "execution_count": 3,
   "metadata": {},
   "outputs": [],
   "source": [
    "homedir=os.getenv('HOME')\n",
    "workdir=homedir+'/Desktop/TESI/figure/'\n",
    "fname_ssp=homedir+'/Desktop/TESI/models/ssp/'+'bc2003_hr_xmiless_m{:02d}_chab_ssp_idx.fits'\n",
    "SSP=[22,32,42,52,62,72]\n",
    "n_ssp=np.size(SSP)"
   ]
  },
  {
   "cell_type": "code",
   "execution_count": 4,
   "metadata": {},
   "outputs": [],
   "source": [
    "d4000nssp_matrix=np.ones([221,6])\n",
    "hghdssp_matrix=np.ones([221,6])"
   ]
  },
  {
   "cell_type": "code",
   "execution_count": 5,
   "metadata": {},
   "outputs": [],
   "source": [
    "for i in range (0, n_ssp):\n",
    "    hdul_ssp=fits.open(fname_ssp.format(SSP[i]))\n",
    "    d4000nssp_matrix[...,i]=hdul_ssp[1].data['D4000n']\n",
    "    hghdssp_matrix[...,i]=hdul_ssp[1].data['HdHg']"
   ]
  },
  {
   "cell_type": "code",
   "execution_count": 6,
   "metadata": {},
   "outputs": [
    {
     "data": {
      "text/plain": [
       "221"
      ]
     },
     "execution_count": 6,
     "metadata": {},
     "output_type": "execute_result"
    }
   ],
   "source": [
    "np.size(d4000nssp_matrix[...,1])"
   ]
  },
  {
   "cell_type": "code",
   "execution_count": 7,
   "metadata": {},
   "outputs": [],
   "source": [
    "hdul_ini=fits.open(homedir+'/Desktop/TESI/models/Sandage_varZ_v4.1eq_bc03MILES_ChFall/sandage_varZ_v4.1eq_spec_dcomb_idx_001.fits')\n",
    "hdul_ini1=fits.open(homedir+'/Desktop/TESI/models/Sandage_varZ_v4.1eq_bc03MILES_ChFall/sandage_varZ_v4.1eq_spec_dcomb_001_physpar_wagef.fits')\n",
    "\n",
    "D4000n_matrix01=hdul_ini[1].data['D4000n']\n",
    "D4000n=D4000n_matrix01[...,4]\n",
    "HdHg_matrix01=hdul_ini[1].data['HdHg']\n",
    "HdHg=HdHg_matrix01[...,4]\n",
    "\n",
    "lw_age_matrix01=hdul_ini1[1].data['LW_AGE']\n",
    "LW_ageu=lw_age_matrix01[...,0]\n",
    "LW_ageg=lw_age_matrix01[...,1]\n",
    "LW_ager=lw_age_matrix01[...,2]\n",
    "LW_agei=lw_age_matrix01[...,3]\n",
    "LW_agez=lw_age_matrix01[...,4]\n",
    "\n",
    "MW_age=hdul_ini1[1].data['MFORMW_AGE']\n",
    "MW_logage=np.log10(hdul_ini1[1].data['MFORMW_LOGAGE'])\n",
    "MPW_age=hdul_ini1[1].data['MPRESW_AGE']\n",
    "\n",
    "A_lambda_matrix01=hdul_ini1[1].data['A_LAMBDA']\n",
    "A_lambdau=A_lambda_matrix01[...,0]\n",
    "A_lambdag=A_lambda_matrix01[...,1]\n",
    "A_lambdar=A_lambda_matrix01[...,2]\n",
    "A_lambdai=A_lambda_matrix01[...,3]\n",
    "A_lambdaz=A_lambda_matrix01[...,4]\n",
    "\n",
    "\n",
    "logZ_matrix01=hdul_ini1[1].data['LW_Z']\n",
    "logZu=logZ_matrix01[...,0]\n",
    "logZg=logZ_matrix01[...,1]\n",
    "logZr=logZ_matrix01[...,2]\n",
    "logZi=logZ_matrix01[...,3]\n",
    "logZz=logZ_matrix01[...,4]\n",
    "\n",
    "age10=hdul_ini1[1].data['age10']\n",
    "age25=hdul_ini1[1].data['age25']\n",
    "age50=hdul_ini1[1].data['age50']\n",
    "age75=hdul_ini1[1].data['age75']\n",
    "age90=hdul_ini1[1].data['age90']\n",
    "\n"
   ]
  },
  {
   "cell_type": "code",
   "execution_count": 8,
   "metadata": {},
   "outputs": [
    {
     "ename": "KeyboardInterrupt",
     "evalue": "",
     "output_type": "error",
     "traceback": [
      "\u001b[0;31m---------------------------------------------------------------------------\u001b[0m",
      "\u001b[0;31mKeyboardInterrupt\u001b[0m                         Traceback (most recent call last)",
      "\u001b[0;32m<ipython-input-8-fb34bcb00da8>\u001b[0m in \u001b[0;36m<module>\u001b[0;34m\u001b[0m\n\u001b[1;32m     10\u001b[0m     \u001b[0mD4000n_matrix\u001b[0m\u001b[0;34m=\u001b[0m\u001b[0mhdul1\u001b[0m\u001b[0;34m[\u001b[0m\u001b[0;36m1\u001b[0m\u001b[0;34m]\u001b[0m\u001b[0;34m.\u001b[0m\u001b[0mdata\u001b[0m\u001b[0;34m[\u001b[0m\u001b[0;34m'D4000n'\u001b[0m\u001b[0;34m]\u001b[0m\u001b[0;34m\u001b[0m\u001b[0;34m\u001b[0m\u001b[0m\n\u001b[1;32m     11\u001b[0m     \u001b[0md4000n\u001b[0m\u001b[0;34m=\u001b[0m\u001b[0mD4000n_matrix\u001b[0m\u001b[0;34m[\u001b[0m\u001b[0;34m...\u001b[0m\u001b[0;34m,\u001b[0m\u001b[0;36m4\u001b[0m\u001b[0;34m]\u001b[0m\u001b[0;34m\u001b[0m\u001b[0;34m\u001b[0m\u001b[0m\n\u001b[0;32m---> 12\u001b[0;31m     \u001b[0mD4000n\u001b[0m\u001b[0;34m=\u001b[0m\u001b[0mnp\u001b[0m\u001b[0;34m.\u001b[0m\u001b[0mappend\u001b[0m\u001b[0;34m(\u001b[0m\u001b[0mD4000n\u001b[0m\u001b[0;34m,\u001b[0m\u001b[0md4000n\u001b[0m\u001b[0;34m)\u001b[0m\u001b[0;34m\u001b[0m\u001b[0;34m\u001b[0m\u001b[0m\n\u001b[0m\u001b[1;32m     13\u001b[0m     \u001b[0mHdHg_matrix\u001b[0m\u001b[0;34m=\u001b[0m\u001b[0mhdul1\u001b[0m\u001b[0;34m[\u001b[0m\u001b[0;36m1\u001b[0m\u001b[0;34m]\u001b[0m\u001b[0;34m.\u001b[0m\u001b[0mdata\u001b[0m\u001b[0;34m[\u001b[0m\u001b[0;34m'HdHg'\u001b[0m\u001b[0;34m]\u001b[0m\u001b[0;34m\u001b[0m\u001b[0;34m\u001b[0m\u001b[0m\n\u001b[1;32m     14\u001b[0m     \u001b[0mhdhg\u001b[0m\u001b[0;34m=\u001b[0m\u001b[0mHdHg_matrix\u001b[0m\u001b[0;34m[\u001b[0m\u001b[0;34m...\u001b[0m\u001b[0;34m,\u001b[0m\u001b[0;36m4\u001b[0m\u001b[0;34m]\u001b[0m\u001b[0;34m\u001b[0m\u001b[0;34m\u001b[0m\u001b[0m\n",
      "\u001b[0;32m<__array_function__ internals>\u001b[0m in \u001b[0;36mappend\u001b[0;34m(*args, **kwargs)\u001b[0m\n",
      "\u001b[0;32m~/anaconda3/lib/python3.8/site-packages/numpy/lib/function_base.py\u001b[0m in \u001b[0;36mappend\u001b[0;34m(arr, values, axis)\u001b[0m\n\u001b[1;32m   4667\u001b[0m         \u001b[0;32mif\u001b[0m \u001b[0marr\u001b[0m\u001b[0;34m.\u001b[0m\u001b[0mndim\u001b[0m \u001b[0;34m!=\u001b[0m \u001b[0;36m1\u001b[0m\u001b[0;34m:\u001b[0m\u001b[0;34m\u001b[0m\u001b[0;34m\u001b[0m\u001b[0m\n\u001b[1;32m   4668\u001b[0m             \u001b[0marr\u001b[0m \u001b[0;34m=\u001b[0m \u001b[0marr\u001b[0m\u001b[0;34m.\u001b[0m\u001b[0mravel\u001b[0m\u001b[0;34m(\u001b[0m\u001b[0;34m)\u001b[0m\u001b[0;34m\u001b[0m\u001b[0;34m\u001b[0m\u001b[0m\n\u001b[0;32m-> 4669\u001b[0;31m         \u001b[0mvalues\u001b[0m \u001b[0;34m=\u001b[0m \u001b[0mravel\u001b[0m\u001b[0;34m(\u001b[0m\u001b[0mvalues\u001b[0m\u001b[0;34m)\u001b[0m\u001b[0;34m\u001b[0m\u001b[0;34m\u001b[0m\u001b[0m\n\u001b[0m\u001b[1;32m   4670\u001b[0m         \u001b[0maxis\u001b[0m \u001b[0;34m=\u001b[0m \u001b[0marr\u001b[0m\u001b[0;34m.\u001b[0m\u001b[0mndim\u001b[0m\u001b[0;34m-\u001b[0m\u001b[0;36m1\u001b[0m\u001b[0;34m\u001b[0m\u001b[0;34m\u001b[0m\u001b[0m\n\u001b[1;32m   4671\u001b[0m     \u001b[0;32mreturn\u001b[0m \u001b[0mconcatenate\u001b[0m\u001b[0;34m(\u001b[0m\u001b[0;34m(\u001b[0m\u001b[0marr\u001b[0m\u001b[0;34m,\u001b[0m \u001b[0mvalues\u001b[0m\u001b[0;34m)\u001b[0m\u001b[0;34m,\u001b[0m \u001b[0maxis\u001b[0m\u001b[0;34m=\u001b[0m\u001b[0maxis\u001b[0m\u001b[0;34m)\u001b[0m\u001b[0;34m\u001b[0m\u001b[0;34m\u001b[0m\u001b[0m\n",
      "\u001b[0;32m<__array_function__ internals>\u001b[0m in \u001b[0;36mravel\u001b[0;34m(*args, **kwargs)\u001b[0m\n",
      "\u001b[0;32m~/anaconda3/lib/python3.8/site-packages/numpy/core/fromnumeric.py\u001b[0m in \u001b[0;36mravel\u001b[0;34m(a, order)\u001b[0m\n\u001b[1;32m   1807\u001b[0m         \u001b[0;32mreturn\u001b[0m \u001b[0masarray\u001b[0m\u001b[0;34m(\u001b[0m\u001b[0ma\u001b[0m\u001b[0;34m)\u001b[0m\u001b[0;34m.\u001b[0m\u001b[0mravel\u001b[0m\u001b[0;34m(\u001b[0m\u001b[0morder\u001b[0m\u001b[0;34m=\u001b[0m\u001b[0morder\u001b[0m\u001b[0;34m)\u001b[0m\u001b[0;34m\u001b[0m\u001b[0;34m\u001b[0m\u001b[0m\n\u001b[1;32m   1808\u001b[0m     \u001b[0;32melse\u001b[0m\u001b[0;34m:\u001b[0m\u001b[0;34m\u001b[0m\u001b[0;34m\u001b[0m\u001b[0m\n\u001b[0;32m-> 1809\u001b[0;31m         \u001b[0;32mreturn\u001b[0m \u001b[0masanyarray\u001b[0m\u001b[0;34m(\u001b[0m\u001b[0ma\u001b[0m\u001b[0;34m)\u001b[0m\u001b[0;34m.\u001b[0m\u001b[0mravel\u001b[0m\u001b[0;34m(\u001b[0m\u001b[0morder\u001b[0m\u001b[0;34m=\u001b[0m\u001b[0morder\u001b[0m\u001b[0;34m)\u001b[0m\u001b[0;34m\u001b[0m\u001b[0;34m\u001b[0m\u001b[0m\n\u001b[0m\u001b[1;32m   1810\u001b[0m \u001b[0;34m\u001b[0m\u001b[0m\n\u001b[1;32m   1811\u001b[0m \u001b[0;34m\u001b[0m\u001b[0m\n",
      "\u001b[0;31mKeyboardInterrupt\u001b[0m: "
     ]
    }
   ],
   "source": [
    "hdul=fits.open(homedir+'/Desktop/TESI/tesi_par.fits')  #t_f parameters\n",
    "hdul2=fits.open(homedir+'/Desktop/TESI/sandage_varZ_v4.1eq.fits')   #t_obs, tau, metallicity, bursts\n",
    "\n",
    "fname_idx=homedir+'/Desktop/TESI/models/Sandage_varZ_v4.1eq_bc03MILES_ChFall/sandage_varZ_v4.1eq_spec_dcomb_idx_{:03d}.fits'\n",
    "fname=homedir+'/Desktop/TESI/models/Sandage_varZ_v4.1eq_bc03MILES_ChFall/sandage_varZ_v4.1eq_spec_dcomb_{:03d}_physpar_wagef.fits'\n",
    "\n",
    "for i in range(2,41):\n",
    "    hdul4=fits.open(fname.format(i)) #ages\n",
    "    hdul1=fits.open(fname_idx.format(i))  #spectral indices\n",
    "    D4000n_matrix=hdul1[1].data['D4000n']\n",
    "    d4000n=D4000n_matrix[...,4]\n",
    "    D4000n=np.append(D4000n,d4000n)\n",
    "    HdHg_matrix=hdul1[1].data['HdHg']\n",
    "    hdhg=HdHg_matrix[...,4]\n",
    "    HdHg=np.append(HdHg,hdhg)\n",
    "    \n",
    "    lw_age_matrix=hdul4[1].data['LW_AGE']\n",
    "    lw_ageu=lw_age_matrix[...,0]\n",
    "    LW_ageu=np.append(LW_ageu,lw_ageu)\n",
    "    lw_ageg=lw_age_matrix[...,1]\n",
    "    LW_ageg=np.append(LW_ageg,lw_ageg)\n",
    "    lw_ager=lw_age_matrix[...,2]\n",
    "    LW_ager=np.append(LW_ager,lw_ager)\n",
    "    lw_agei=lw_age_matrix[...,3]\n",
    "    LW_agei=np.append(LW_agei,lw_agei)\n",
    "    lw_agez=lw_age_matrix[...,4]\n",
    "    LW_agez=np.append(LW_agez,lw_agez)\n",
    "    \n",
    "    mw_age=hdul4[1].data['MFORMW_AGE']\n",
    "    MW_age=np.append(MW_age,mw_age)\n",
    "    mw_logage=np.log10(hdul4[1].data['MFORMW_LOGAGE'])\n",
    "    MW_logage=np.append(MW_logage,mw_logage)\n",
    "    mpw_age=hdul4[1].data['MPRESW_AGE']\n",
    "    MPW_age=np.append(MPW_age, mpw_age)\n",
    "    \n",
    "    A_lambda_matrix=hdul4[1].data['A_LAMBDA']\n",
    "    a_lambdar=A_lambda_matrix[...,2]\n",
    "    A_lambdar=np.append(A_lambdar,a_lambdar)\n",
    "    \n",
    "    logZ_matrix=hdul4[1].data['LW_Z']\n",
    "    logzr=logZ_matrix[...,2]\n",
    "    logZr=np.append(logZr,logzr)\n",
    "    \n",
    "    _age10=hdul4[1].data['age10']\n",
    "    _age25=hdul4[1].data['age25']\n",
    "    _age50=hdul4[1].data['age50']\n",
    "    _age75=hdul4[1].data['age75']\n",
    "    _age90=hdul4[1].data['age90']\n",
    "    age10=np.append(age10, _age10)\n",
    "    age25=np.append(age25, _age25)\n",
    "    age50=np.append(age50, _age50)\n",
    "    age75=np.append(age75, _age75)\n",
    "    age90=np.append(age90, _age90)\n",
    "\n",
    "    \n",
    "    hdul4.close()\n",
    "    hdul1.close()"
   ]
  },
  {
   "cell_type": "code",
   "execution_count": null,
   "metadata": {},
   "outputs": [],
   "source": [
    "log_tobs=hdul2[1].data['LOGTFORM']\n",
    "N_burst=hdul2[1].data['NBURST']\n",
    "\n",
    "\n",
    "\n",
    "log_age10=np.log10(age10)\n",
    "log_age90=np.log10(age90)\n",
    "log_age25=np.log10(age25)\n",
    "log_age75=np.log10(age75)\n",
    "\n"
   ]
  },
  {
   "cell_type": "markdown",
   "metadata": {},
   "source": [
    "Statistic"
   ]
  },
  {
   "cell_type": "code",
   "execution_count": null,
   "metadata": {},
   "outputs": [],
   "source": [
    "n_bins=50\n",
    "r=stats.binned_statistic_2d(D4000n,HdHg,None,bins=n_bins,statistic='count',expand_binnumbers=True )\n",
    "y,x=np.meshgrid(r.y_edge,r.x_edge)\n",
    "\n",
    "med90=stats.binned_statistic_2d(D4000n,HdHg,log_age90,bins=n_bins,statistic='median',expand_binnumbers=True )\n",
    "age90_rms1684=stats.binned_statistic_2d(D4000n,HdHg,log_age90,bins=n_bins,statistic=rms_1684,expand_binnumbers=True )\n",
    "med10=stats.binned_statistic_2d(D4000n,HdHg,log_age10,bins=n_bins,statistic='median',expand_binnumbers=True )\n",
    "age10_rms1684=stats.binned_statistic_2d(D4000n,HdHg,log_age10,bins=n_bins,statistic=rms_1684,expand_binnumbers=True )\n",
    "med50=stats.binned_statistic_2d(D4000n,HdHg,np.log10(age50),bins=n_bins,statistic='median',expand_binnumbers=True )\n",
    "age50_rms1684=stats.binned_statistic_2d(D4000n,HdHg,np.log10(age50),bins=n_bins,statistic=rms_1684,expand_binnumbers=True )\n",
    "med75=stats.binned_statistic_2d(D4000n,HdHg,np.log10(age75),bins=n_bins,statistic='median',expand_binnumbers=True )\n",
    "age75_rms1684=stats.binned_statistic_2d(D4000n,HdHg,log_age75,bins=n_bins,statistic=rms_1684,expand_binnumbers=True )\n",
    "med25=stats.binned_statistic_2d(D4000n,HdHg,np.log10(age25),bins=n_bins,statistic='median',expand_binnumbers=True )\n",
    "age25_rms1684=stats.binned_statistic_2d(D4000n,HdHg,log_age25,bins=n_bins,statistic=rms_1684,expand_binnumbers=True )\n"
   ]
  },
  {
   "cell_type": "code",
   "execution_count": null,
   "metadata": {},
   "outputs": [],
   "source": [
    "fig,axs=plt.subplots(2,6,figsize=(25,10))\n",
    "axs[0, 0].pcolormesh(x,y,med90.statistic,cmap=cm.rainbow,vmin=8.50,vmax=10.25)\n",
    "axs[0, 0].set_title('log(age90)')\n",
    "axs[0, 1].pcolormesh(x,y,med75.statistic,cmap=cm.rainbow,vmin=8.50,vmax=10.25)\n",
    "axs[0, 1].set_title('log(age75)')\n",
    "axs[0, 2].pcolormesh(x,y,med50.statistic,cmap=cm.rainbow,vmin=8.50,vmax=10.25)\n",
    "axs[0, 2].set_title('log(age50)')\n",
    "axs[0, 3].pcolormesh(x,y,med25.statistic,cmap=cm.rainbow,vmin=8.50,vmax=10.25)\n",
    "axs[0, 3].set_title('log(age25)')\n",
    "\n",
    "axs[1, 0].pcolormesh(x,y,age90_rms1684.statistic,cmap=cm.hot,vmin=0.0,vmax=0.55)\n",
    "axs[1, 0].set_title('rms16-84(log_age90)')\n",
    "axs[1, 1].pcolormesh(x,y,age75_rms1684.statistic,cmap=cm.hot,vmin=0.0,vmax=0.55)\n",
    "axs[1, 1].set_title('rms16-84(log_age75)')\n",
    "axs[1, 2].pcolormesh(x,y,age50_rms1684.statistic,cmap=cm.hot,vmin=0.0,vmax=0.55)\n",
    "axs[1, 2].set_title('rms16-84(log_age50)')\n",
    "axs[1, 3].pcolormesh(x,y,age25_rms1684.statistic,cmap=cm.hot,vmin=0.0,vmax=0.55)\n",
    "axs[1, 3].set_title('rms16-84(log_age25)')\n",
    "\n",
    "\n",
    "\n",
    "plt10=axs[0,4].pcolormesh(x,y,med10.statistic,cmap=cm.rainbow,vmin=8.50,vmax=10.25)\n",
    "plt_std10=axs[1,4].pcolormesh(x,y,age10_rms1684.statistic,cmap=cm.hot,vmin=0.0,vmax=0.55)\n",
    "axs[1,4].set_title('rms16-84(log_age10)')\n",
    "axs[0, 4].set_title('log(age10)')\n",
    "#fig.colorbar(plt10, ax=[axs[0,2]], location='right')\n",
    "#axs[1,3].colorbar(plt10)\n",
    "fig.colorbar(plt10, ax=[axs[0,5]], location='left')\n",
    "axs[0,5].axis('off')\n",
    "fig.colorbar(plt_std10, ax=[axs[1,5]], location='left')\n",
    "axs[1,5].axis('off')\n",
    "axs[0,0].set_ylabel('HdHg')\n",
    "axs[1,0].set_ylabel('HdHg')\n",
    "axs[1,0].set_xlabel('D4000n')\n",
    "axs[1,1].set_xlabel('D4000n')\n",
    "axs[1,2].set_xlabel('D4000n')\n",
    "axs[1,3].set_xlabel('D4000n')\n",
    "axs[1,4].set_xlabel('D4000n')\n"
   ]
  },
  {
   "cell_type": "code",
   "execution_count": null,
   "metadata": {},
   "outputs": [],
   "source": [
    "#fig.savefig(workdir+'age_f.png')"
   ]
  },
  {
   "cell_type": "code",
   "execution_count": null,
   "metadata": {},
   "outputs": [],
   "source": [
    "np.size(LW_ager)"
   ]
  },
  {
   "cell_type": "code",
   "execution_count": null,
   "metadata": {},
   "outputs": [],
   "source": [
    "med_logmwage=stats.binned_statistic_2d(D4000n,HdHg,np.log10(MW_age),bins=n_bins,statistic='median',expand_binnumbers=True )\n",
    "agemw_rms1684=stats.binned_statistic_2d(D4000n,HdHg,np.log10(MW_age),bins=n_bins,statistic=rms_1684,expand_binnumbers=True )\n",
    "med_loglwage_r=stats.binned_statistic_2d(D4000n,HdHg,np.log10(LW_ager),bins=n_bins,statistic='median',expand_binnumbers=True )\n",
    "agelw_r_rms1684=stats.binned_statistic_2d(D4000n,HdHg,np.log10(LW_ager),bins=n_bins,statistic=rms_1684,expand_binnumbers=True )\n",
    "med_logage_mw=stats.binned_statistic_2d(D4000n,HdHg,MW_logage,bins=n_bins,statistic='median',expand_binnumbers=True )\n",
    "logagemw_rms1684=stats.binned_statistic_2d(D4000n,HdHg,MW_logage,bins=n_bins,statistic=rms_1684,expand_binnumbers=True )\n"
   ]
  },
  {
   "cell_type": "code",
   "execution_count": null,
   "metadata": {},
   "outputs": [],
   "source": [
    "fig,axs=plt.subplots(2,5,figsize=(20,10))\n",
    "axs[0, 0].pcolormesh(x,y,med_logmwage.statistic,cmap=cm.rainbow,vmin=8.0,vmax=10.25)\n",
    "axs[0, 0].set_title('log(mwage)')\n",
    "axs[0, 1].pcolormesh(x,y,med50.statistic,cmap=cm.rainbow,vmin=8.0,vmax=10.25)\n",
    "axs[0, 1].set_title('log(age50)')\n",
    "axs[1, 0].pcolormesh(x,y,agemw_rms1684.statistic,cmap=cm.hot,vmin=0.0,vmax=0.55)\n",
    "axs[1, 0].set_title('rms16-84(log_mwage)')\n",
    "axs[1, 1].pcolormesh(x,y,age50_rms1684.statistic,cmap=cm.hot,vmin=0.0,vmax=0.55)\n",
    "axs[1, 1].set_title('rms16-84(log_age50)')\n",
    "plt10=axs[0,3].pcolormesh(x,y,med_loglwage_r.statistic,cmap=cm.rainbow,vmin=8.0,vmax=10.25)\n",
    "plt_std10=axs[1,3].pcolormesh(x,y,agelw_r_rms1684.statistic,cmap=cm.hot,vmin=0.0,vmax=0.55)\n",
    "axs[1,3].set_title('rms16-84(log_lwage)_r')\n",
    "axs[0, 3].set_title('log(lwage)_r')\n",
    "#fig.colorbar(plt10, ax=[axs[0,2]], location='right')\n",
    "#axs[1,3].colorbar(plt10)\n",
    "fig.colorbar(plt10, ax=[axs[0,4]], location='left')\n",
    "axs[0,4].axis('off')\n",
    "fig.colorbar(plt_std10, ax=[axs[1,4]], location='left')\n",
    "axs[1,4].axis('off')\n",
    "axs[0,0].set_ylabel('HdHg')\n",
    "axs[1,0].set_ylabel('HdHg')\n",
    "axs[1,0].set_xlabel('D4000n')\n",
    "axs[1,1].set_xlabel('D4000n')\n",
    "axs[1,2].set_xlabel('D4000n')\n",
    "axs[0,2].pcolormesh(x,y,med_logage_mw.statistic,cmap=cm.rainbow,vmin=8.0,vmax=10.25)\n",
    "axs[0,2].set_title('mw_logage')\n",
    "axs[1,2].pcolormesh(x,y,logagemw_rms1684.statistic,cmap=cm.hot,vmin=0.0,vmax=0.55)\n",
    "axs[0,2].set_title('mw_logage')\n",
    "axs[1,2].set_title('rms16-84_mwlogage')"
   ]
  },
  {
   "cell_type": "code",
   "execution_count": null,
   "metadata": {},
   "outputs": [],
   "source": [
    "#fig.savefig(workdir+'age_mw_lw_log.png')"
   ]
  },
  {
   "cell_type": "code",
   "execution_count": null,
   "metadata": {},
   "outputs": [],
   "source": [
    "idx_noburst=np.where(N_burst==0)\n",
    "log_age90nb=log_age90[idx_noburst[0]]\n",
    "log_age10nb=log_age10[idx_noburst[0]]\n",
    "\n",
    "ist90=np.histogram(log_age90, bins=50)\n",
    "p90=ist90[0]/np.size(log_age90)\n",
    "p90_new=np.append(p90[0],p90)\n",
    "ist90nb=np.histogram(log_age90nb, bins=50)\n",
    "p90nb=ist90nb[0]/np.size(log_age90nb)\n",
    "p90_newnb=np.append(p90nb[0],p90nb)\n",
    "\n",
    "plt.step(ist90[1],p90_new,label='prior log_age90')\n",
    "plt.step(ist90nb[1],p90_newnb,label='prior log_age90 nb')\n",
    "plt.legend(loc='upper left')\n"
   ]
  },
  {
   "cell_type": "code",
   "execution_count": null,
   "metadata": {},
   "outputs": [],
   "source": [
    "#plt.savefig(workdir+'prior90.png')"
   ]
  },
  {
   "cell_type": "code",
   "execution_count": null,
   "metadata": {},
   "outputs": [],
   "source": [
    "ist10=np.histogram(log_age10, bins=50)\n",
    "p10=ist10[0]/np.size(log_age10)\n",
    "p10_new=np.append(p10[0],p10)\n",
    "ist10nb=np.histogram(log_age10nb, bins=50)\n",
    "p10nb=ist10nb[0]/np.size(log_age10nb)\n",
    "p10_newnb=np.append(p10nb[0],p10nb)\n",
    "plt.step(ist10[1],p10_new,label='prior log_age10')\n",
    "plt.step(ist10nb[1],p10_newnb,label='prior log_age10 nb')\n",
    "plt.legend(loc='upper left')"
   ]
  },
  {
   "cell_type": "code",
   "execution_count": null,
   "metadata": {},
   "outputs": [],
   "source": [
    "#plt.savefig('prior10.png')"
   ]
  },
  {
   "cell_type": "code",
   "execution_count": null,
   "metadata": {},
   "outputs": [],
   "source": [
    "log_age25nb=log_age25[idx_noburst[0]]\n",
    "log_age75nb=log_age75[idx_noburst[0]]\n",
    "MW_agenb=MW_age[idx_noburst[0]]\n",
    "\n",
    "med_mwage_7525=stats.binned_statistic_2d(log_age75,log_age25,np.log10(MW_age),bins=n_bins,statistic='median',expand_binnumbers=True )\n",
    "agemw_7525_rms1684=stats.binned_statistic_2d(log_age75,log_age25,np.log10(MW_age),bins=n_bins,statistic=rms_1684,expand_binnumbers=True )\n",
    "\n",
    "med_mwage_7525nb=stats.binned_statistic_2d(log_age75nb,log_age25nb,np.log10(MW_agenb),bins=n_bins,statistic='median',expand_binnumbers=True )\n",
    "agemw_7525nb_rms1684=stats.binned_statistic_2d(log_age75nb,log_age25nb,np.log10(MW_agenb),bins=n_bins,statistic=rms_1684,expand_binnumbers=True )\n"
   ]
  },
  {
   "cell_type": "code",
   "execution_count": null,
   "metadata": {},
   "outputs": [],
   "source": [
    "y25,x75=np.meshgrid(med_mwage_7525.y_edge,med_mwage_7525.x_edge)\n",
    "fig1,axs1=plt.subplots(2,3,figsize=(15,10))\n",
    "#axs1[0,0].pcolormesh(x75,y25,med_mwage_7525.statistic,cmap=cm.rainbow)\n",
    "plt1=axs1[0,1].pcolormesh(x75,y25,med_mwage_7525.statistic,cmap=cm.rainbow,vmin=8.0,vmax=10.25)\n",
    "plt2=axs1[1,1].pcolormesh(x75,y25,agemw_7525_rms1684.statistic, cmap=cm.hot,vmin=0.0,vmax=0.2)\n",
    "fig.colorbar(plt2, ax=[axs1[1,2]], location='left')\n",
    "fig.colorbar(plt1, ax=[axs1[0,2]], location='left')\n",
    "\n",
    "axs1[1,1].set_xlabel('log_age75')\n",
    "axs1[0,0].set_ylabel('log_age25')\n",
    "axs1[1,0].set_xlabel('log_age75')\n",
    "axs1[1,0].set_ylabel('log_age25')\n",
    "axs1[0,2].axis('off')\n",
    "axs1[1,2].axis('off')\n",
    "axs1[1,1].set_title('rms_16-84_log_mwage')\n",
    "axs1[0,1].set_title('log_mwage')      \n",
    "axs1[1,0].set_title('rms_16-84_log_mwage_nb')\n",
    "axs1[0,0].set_title('log_mwage_nb')      \n",
    "\n",
    "axs1[0,0].pcolormesh(x75,y25,med_mwage_7525nb.statistic,cmap=cm.rainbow,vmin=8.0,vmax=10.25)\n",
    "axs1[1,0].pcolormesh(x75,y25,agemw_7525nb_rms1684.statistic, cmap=cm.hot,vmin=0.0,vmax=0.2)"
   ]
  },
  {
   "cell_type": "code",
   "execution_count": null,
   "metadata": {},
   "outputs": [],
   "source": [
    "#fig1.savefig(workdir+'log_mwage_2575.png')"
   ]
  },
  {
   "cell_type": "code",
   "execution_count": null,
   "metadata": {},
   "outputs": [],
   "source": [
    "idx_lowdust_noburst=np.where((A_lambdar<0.2)&(N_burst==0))\n",
    "idx_lowdust=np.where(A_lambdar<0.2)\n",
    "idx_lowdust_lowz=np.where((logZr<0.05)&(logZr>-0.05)&(A_lambdar<0.2))\n",
    "\n",
    "MW_age_lowdust_noburst=MW_age[idx_lowdust_noburst[0]]\n",
    "D4000n_lowdust_noburst=D4000n[idx_lowdust_noburst[0]]\n",
    "HdHg_lowdust_noburst=HdHg[idx_lowdust_noburst[0]]\n",
    "\n",
    "MW_age_lowdust=MW_age[idx_lowdust[0]]\n",
    "D4000n_lowdust=D4000n[idx_lowdust[0]]\n",
    "HdHg_lowdust=HdHg[idx_lowdust[0]]\n",
    "\n",
    "MW_age_lowdust_lowz=MW_age[idx_lowdust_lowz[0]]\n",
    "D4000n_lowdust_lowz=D4000n[idx_lowdust_lowz[0]]\n",
    "HdHg_lowdust_lowz=HdHg[idx_lowdust_lowz[0]]"
   ]
  },
  {
   "cell_type": "code",
   "execution_count": null,
   "metadata": {},
   "outputs": [],
   "source": [
    "med_logmwage_ld_nb=stats.binned_statistic_2d(D4000n_lowdust_noburst,HdHg_lowdust_noburst,np.log10(MW_age_lowdust_noburst),bins=[r.x_edge,r.y_edge],statistic='median',expand_binnumbers=True )\n",
    "agemw_rms1684_ld_nb=stats.binned_statistic_2d(D4000n_lowdust_noburst,HdHg_lowdust_noburst,np.log10(MW_age_lowdust_noburst),bins=[r.x_edge,r.y_edge],statistic=rms_1684,expand_binnumbers=True )\n",
    "\n",
    "med_logmwage_ld=stats.binned_statistic_2d(D4000n_lowdust,HdHg_lowdust,np.log10(MW_age_lowdust),bins=[r.x_edge,r.y_edge],statistic='median',expand_binnumbers=True )\n",
    "agemw_rms1684_ld=stats.binned_statistic_2d(D4000n_lowdust,HdHg_lowdust,np.log10(MW_age_lowdust),bins=[r.x_edge,r.y_edge],statistic=rms_1684,expand_binnumbers=True )\n",
    "\n",
    "med_logmwage_ld_lz=stats.binned_statistic_2d(D4000n_lowdust_lowz,HdHg_lowdust_lowz,np.log10(MW_age_lowdust_lowz),bins=[r.x_edge,r.y_edge],statistic='median',expand_binnumbers=True )\n",
    "agemw_rms1684_ld_lz=stats.binned_statistic_2d(D4000n_lowdust_lowz,HdHg_lowdust_lowz,np.log10(MW_age_lowdust_lowz),bins=[r.x_edge,r.y_edge],statistic=rms_1684,expand_binnumbers=True )\n"
   ]
  },
  {
   "cell_type": "code",
   "execution_count": null,
   "metadata": {},
   "outputs": [],
   "source": [
    "fig1,axs1=plt.subplots(2,5,figsize=(25,10))\n",
    "plt1_ld=axs1[0,3].pcolormesh(x,y,med_logmwage_ld_nb.statistic,cmap=cm.rainbow,vmin=8.0,vmax=10.25)\n",
    "plt2_ld=axs1[1,3].pcolormesh(x,y,agemw_rms1684_ld_nb.statistic, cmap=cm.hot,vmin=0.0,vmax=0.55)\n",
    "fig.colorbar(plt2_ld, ax=[axs1[1,4]], location='left')\n",
    "fig.colorbar(plt1_ld, ax=[axs1[0,4]], location='left')\n",
    "axs1[1,2].set_xlabel('D4000n')\n",
    "axs1[1,0].set_xlabel('D4000n')\n",
    "axs1[0,0].set_ylabel('HdHg')\n",
    "axs1[1,1].set_xlabel('D4000n')\n",
    "axs1[1,0].set_ylabel('HdHg')\n",
    "\n",
    "axs1[0,4].axis('off')\n",
    "axs1[1,4].axis('off')\n",
    "axs1[1,3].set_title('rms_16-84_log_mwage_dust<0.2_nb')\n",
    "axs1[0,3].set_title('log_mwage_dust<0.2_nb')\n",
    "\n",
    "axs1[0,2].pcolormesh(x,y,med_logmwage_ld_lz.statistic,cmap=cm.rainbow,vmin=8.0,vmax=10.25)\n",
    "axs1[1,2].pcolormesh(x,y,agemw_rms1684_ld_lz.statistic, cmap=cm.hot,vmin=0.0,vmax=0.55)\n",
    "axs1[1,2].set_title('rms_16-84_log_mwage_dust<0.2_z0.05')\n",
    "axs1[0,2].set_title('log_mwage_dust<0.2_z0.05')\n",
    "axs1[0,0].pcolormesh(x,y,med_logmwage.statistic,cmap=cm.rainbow,vmin=8.0,vmax=10.25)\n",
    "axs1[1,0].pcolormesh(x,y,agemw_rms1684.statistic, cmap=cm.hot,vmin=0.0,vmax=0.55)\n",
    "axs1[1,0].set_title('rms_16-84_log_mwage')\n",
    "axs1[0,0].set_title('log_mwage')\n",
    "axs1[0,1].pcolormesh(x,y,med_logmwage_ld.statistic,cmap=cm.rainbow, vmin=8.0,vmax=10.25)\n",
    "axs1[1,1].pcolormesh(x,y,agemw_rms1684_ld.statistic,cmap=cm.hot,vmin=0.0,vmax=0.55)\n",
    "axs1[1,1].set_title('rms_16-84_log_mwage_dust<0.2')\n",
    "axs1[0,1].set_title('log_mwage_dust<0.2')"
   ]
  },
  {
   "cell_type": "code",
   "execution_count": null,
   "metadata": {},
   "outputs": [],
   "source": [
    "#fig1.savefig(workdir+'log_mwage_dust_z_nb.png')"
   ]
  },
  {
   "cell_type": "code",
   "execution_count": null,
   "metadata": {},
   "outputs": [],
   "source": [
    "#hdul_ini.close()\n",
    "#hdul_ini1.close()\n",
    "#hdul.close()\n",
    "#hdul2.close()"
   ]
  },
  {
   "cell_type": "code",
   "execution_count": null,
   "metadata": {},
   "outputs": [],
   "source": [
    "log_age10nb=log_age10[idx_noburst[0]]\n",
    "log_age90nb=log_age90[idx_noburst[0]]\n",
    "#MW_agenb=MW_age[idx_noburst[0]]\n",
    "\n",
    "med_mwage_9010=stats.binned_statistic_2d(log_age90,log_age10,np.log10(MW_age),bins=n_bins,statistic='median',expand_binnumbers=True )\n",
    "agemw_9010_rms1684=stats.binned_statistic_2d(log_age90,log_age10,np.log10(MW_age),bins=n_bins,statistic=rms_1684,expand_binnumbers=True )\n",
    "\n",
    "med_mwage_9010nb=stats.binned_statistic_2d(log_age90nb,log_age10nb,np.log10(MW_agenb),bins=n_bins,statistic='median',expand_binnumbers=True )\n",
    "agemw_9010nb_rms1684=stats.binned_statistic_2d(log_age90nb,log_age10nb,np.log10(MW_agenb),bins=n_bins,statistic=rms_1684,expand_binnumbers=True )\n"
   ]
  },
  {
   "cell_type": "code",
   "execution_count": null,
   "metadata": {},
   "outputs": [],
   "source": [
    "y10,x90=np.meshgrid(med_mwage_9010.y_edge,med_mwage_9010.x_edge)\n",
    "fig1,axs1=plt.subplots(2,3,figsize=(15,10))\n",
    "#axs1[0,0].pcolormesh(x75,y25,med_mwage_7525.statistic,cmap=cm.rainbow)\n",
    "plt1=axs1[0,1].pcolormesh(x90,y10,med_mwage_9010.statistic,cmap=cm.rainbow,vmin=8.0,vmax=10.25)\n",
    "plt2=axs1[1,1].pcolormesh(x90,y10,agemw_9010_rms1684.statistic, cmap=cm.hot,vmin=0.0,vmax=0.2)\n",
    "fig.colorbar(plt2, ax=[axs1[1,2]], location='left')\n",
    "fig.colorbar(plt1, ax=[axs1[0,2]], location='left')\n",
    "\n",
    "axs1[1,1].set_xlabel('log_age90')\n",
    "axs1[0,0].set_ylabel('log_age10')\n",
    "axs1[1,0].set_xlabel('log_age90')\n",
    "axs1[1,0].set_ylabel('log_age10')\n",
    "axs1[0,2].axis('off')\n",
    "axs1[1,2].axis('off')\n",
    "axs1[1,1].set_title('rms_16-84_log_mwage')\n",
    "axs1[0,1].set_title('log_mwage')      \n",
    "axs1[1,0].set_title('rms_16-84_log_mwage_nb')\n",
    "axs1[0,0].set_title('log_mwage_nb')      \n",
    "\n",
    "axs1[0,0].pcolormesh(x90,y10,med_mwage_9010nb.statistic,cmap=cm.rainbow,vmin=8.0,vmax=10.25)\n",
    "axs1[1,0].pcolormesh(x90,y10,agemw_9010nb_rms1684.statistic, cmap=cm.hot,vmin=0.0,vmax=0.2)"
   ]
  },
  {
   "cell_type": "code",
   "execution_count": null,
   "metadata": {},
   "outputs": [],
   "source": [
    "#fig1.savefig(workdir+'log_mwage_1090.png')"
   ]
  },
  {
   "cell_type": "code",
   "execution_count": null,
   "metadata": {},
   "outputs": [],
   "source": [
    "age25_nb=age25[idx_noburst[0]]\n",
    "age10_nb=age10[idx_noburst[0]]\n",
    "age90_nb=age90[idx_noburst[0]]\n",
    "D4000n_nb=D4000n[idx_noburst[0]]\n",
    "HdHg_nb=HdHg[idx_noburst[0]]\n",
    "MW_age_nb=MW_age[idx_noburst[0]]"
   ]
  },
  {
   "cell_type": "code",
   "execution_count": null,
   "metadata": {},
   "outputs": [],
   "source": [
    "age2590_rms1684=stats.binned_statistic_2d(D4000n,HdHg,np.log10(age25-age90),bins=n_bins,statistic=rms_1684,expand_binnumbers=True )\n",
    "age1090_rms1684=stats.binned_statistic_2d(D4000n,HdHg,np.log10(age10-age90),bins=n_bins,statistic=rms_1684,expand_binnumbers=True )\n",
    "age10_age90=stats.binned_statistic_2d(D4000n,HdHg,(age10-age90),bins=n_bins,statistic='median',expand_binnumbers=True )\n",
    "age25_age90=stats.binned_statistic_2d(D4000n,HdHg,(age25-age90),bins=n_bins,statistic='median',expand_binnumbers=True )"
   ]
  },
  {
   "cell_type": "code",
   "execution_count": null,
   "metadata": {},
   "outputs": [],
   "source": [
    "age2590nb_rms1684=stats.binned_statistic_2d(D4000n_nb,HdHg_nb,np.log10(age25_nb-age90_nb),bins=n_bins,statistic=rms_1684,expand_binnumbers=True )\n",
    "age1090nb_rms1684=stats.binned_statistic_2d(D4000n_nb,HdHg_nb,np.log10(age10_nb-age90_nb),bins=n_bins,statistic=rms_1684,expand_binnumbers=True )\n",
    "age10_age90nb=stats.binned_statistic_2d(D4000n_nb,HdHg_nb,age10_nb-age90_nb,bins=n_bins,statistic='median',expand_binnumbers=True )\n",
    "age25_age90nb=stats.binned_statistic_2d(D4000n_nb,HdHg_nb,(age25_nb-age90_nb),bins=n_bins,statistic='median',expand_binnumbers=True )"
   ]
  },
  {
   "cell_type": "code",
   "execution_count": null,
   "metadata": {},
   "outputs": [],
   "source": [
    "fig1,axs1=plt.subplots(2,3,figsize=(15,10))\n",
    "plt1=axs1[0,1].pcolormesh(x,y,np.log10(age10_age90.statistic),cmap=cm.rainbow,vmin=8.0,vmax=10.00)\n",
    "plt2=axs1[1,1].pcolormesh(x,y,(age1090_rms1684.statistic), cmap=cm.hot,vmin=0.0,vmax=1.0)\n",
    "fig.colorbar(plt2, ax=[axs1[1,2]], location='left')\n",
    "fig.colorbar(plt1, ax=[axs1[0,2]], location='left')\n",
    "\n",
    "axs1[1,1].set_xlabel('D4000n')\n",
    "axs1[0,0].set_ylabel('HdHg')\n",
    "axs1[1,0].set_xlabel('D4000n')\n",
    "axs1[1,0].set_ylabel('HdHg')\n",
    "axs1[0,2].axis('off')\n",
    "axs1[1,2].axis('off')\n",
    "axs1[1,1].set_title('age1090_rms1684')\n",
    "axs1[0,1].set_title('age10_age90')      \n",
    "axs1[1,0].set_title('age1090_nb_rms1684')\n",
    "axs1[0,0].set_title('age10_age90_nb')      \n",
    "\n",
    "axs1[0,0].pcolormesh(x,y,np.log10(age10_age90nb.statistic),cmap=cm.rainbow,vmin=8.0,vmax=10.00)\n",
    "axs1[1,0].pcolormesh(x,y,(age1090nb_rms1684.statistic), cmap=cm.hot,vmin=0.0,vmax=1.0)"
   ]
  },
  {
   "cell_type": "code",
   "execution_count": null,
   "metadata": {},
   "outputs": [],
   "source": [
    "#fig1.savefig(workdir+'age1090_balmerplane.png')"
   ]
  },
  {
   "cell_type": "code",
   "execution_count": null,
   "metadata": {},
   "outputs": [],
   "source": [
    "fig1,axs1=plt.subplots(2,3,figsize=(15,10))\n",
    "plt1=axs1[0,1].pcolormesh(x,y,np.log10(age25_age90.statistic),cmap=cm.rainbow,vmin=8.0,vmax=10.00)\n",
    "plt2=axs1[1,1].pcolormesh(x,y,(age2590_rms1684.statistic), cmap=cm.hot,vmin=0.0,vmax=1.0)\n",
    "fig.colorbar(plt2, ax=[axs1[1,2]], location='left')\n",
    "fig.colorbar(plt1, ax=[axs1[0,2]], location='left')\n",
    "\n",
    "axs1[1,1].set_xlabel('D4000n')\n",
    "axs1[0,0].set_ylabel('HdHg')\n",
    "axs1[1,0].set_xlabel('D4000n')\n",
    "axs1[1,0].set_ylabel('HdHg')\n",
    "axs1[0,2].axis('off')\n",
    "axs1[1,2].axis('off')\n",
    "axs1[1,1].set_title('age2590_rms1684')\n",
    "axs1[0,1].set_title('age25_age90')      \n",
    "axs1[1,0].set_title('age2590_nb_rms1684')\n",
    "axs1[0,0].set_title('age25_age90_nb')      \n",
    "\n",
    "axs1[0,0].pcolormesh(x,y,np.log10(age25_age90nb.statistic),cmap=cm.rainbow,vmin=8.0,vmax=10.00)\n",
    "axs1[1,0].pcolormesh(x,y,(age2590nb_rms1684.statistic), cmap=cm.hot,vmin=0.0,vmax=1.0)"
   ]
  },
  {
   "cell_type": "code",
   "execution_count": null,
   "metadata": {},
   "outputs": [],
   "source": [
    "#fig1.savefig(workdir+'agemw2590_balmerplane.png')"
   ]
  },
  {
   "cell_type": "code",
   "execution_count": null,
   "metadata": {},
   "outputs": [],
   "source": [
    "age2590norm_rms1684=stats.binned_statistic_2d(D4000n,HdHg,np.log10((age25-age90)/MW_age),bins=n_bins,statistic=rms_1684,expand_binnumbers=True )\n",
    "age25_age90norm=stats.binned_statistic_2d(D4000n,HdHg,np.log10((age25-age90)/MW_age),bins=n_bins,statistic='median',expand_binnumbers=True )\n",
    "age2590nb_norm_rms1684=stats.binned_statistic_2d(D4000n_nb,HdHg_nb,np.log10((age25_nb-age90_nb)/MW_age_nb),bins=n_bins,statistic=rms_1684,expand_binnumbers=True )\n",
    "age25_age90nb_norm=stats.binned_statistic_2d(D4000n_nb,HdHg_nb,np.log10((age25_nb-age90_nb)/MW_age_nb),bins=n_bins,statistic='median',expand_binnumbers=True )"
   ]
  },
  {
   "cell_type": "code",
   "execution_count": null,
   "metadata": {},
   "outputs": [],
   "source": [
    "fig1,axs1=plt.subplots(2,3,figsize=(15,10))\n",
    "plt1=axs1[0,1].pcolormesh(x,y,(age25_age90norm.statistic),cmap=cm.rainbow)\n",
    "plt2=axs1[1,1].pcolormesh(x,y,(age2590norm_rms1684.statistic), cmap=cm.hot)\n",
    "fig.colorbar(plt2, ax=[axs1[1,2]], location='left')\n",
    "fig.colorbar(plt1, ax=[axs1[0,2]], location='left')\n",
    "\n",
    "axs1[1,1].set_xlabel('D4000n')\n",
    "axs1[0,0].set_ylabel('HdHg')\n",
    "axs1[1,0].set_xlabel('D4000n')\n",
    "axs1[1,0].set_ylabel('HdHg')\n",
    "axs1[0,2].axis('off')\n",
    "axs1[1,2].axis('off')\n",
    "axs1[1,1].set_title('age2590/MW_age_rms1684')\n",
    "axs1[0,1].set_title('age25_age90/MW_age')      \n",
    "axs1[1,0].set_title('age2590/MW_age_nb_rms1684')\n",
    "axs1[0,0].set_title('age25_age90/MW_age_nb')      \n",
    "\n",
    "axs1[0,0].pcolormesh(x,y,(age25_age90nb_norm.statistic),cmap=cm.rainbow)\n",
    "axs1[1,0].pcolormesh(x,y,(age2590nb_norm_rms1684.statistic), cmap=cm.hot)"
   ]
  },
  {
   "cell_type": "code",
   "execution_count": null,
   "metadata": {},
   "outputs": [],
   "source": [
    "#fig1.savefig(workdir+'agemw2590norm_balmerplane.png')"
   ]
  },
  {
   "cell_type": "code",
   "execution_count": null,
   "metadata": {},
   "outputs": [],
   "source": [
    "med_loglwage_u=stats.binned_statistic_2d(D4000n,HdHg,np.log10(LW_ageu),bins=n_bins,statistic='median',expand_binnumbers=True )\n",
    "agelw_u_rms1684=stats.binned_statistic_2d(D4000n,HdHg,np.log10(LW_ageu),bins=n_bins,statistic=rms_1684,expand_binnumbers=True )\n",
    "med_loglwage_g=stats.binned_statistic_2d(D4000n,HdHg,np.log10(LW_ageg),bins=n_bins,statistic='median',expand_binnumbers=True )\n",
    "agelw_g_rms1684=stats.binned_statistic_2d(D4000n,HdHg,np.log10(LW_ageg),bins=n_bins,statistic=rms_1684,expand_binnumbers=True )\n",
    "med_loglwage_i=stats.binned_statistic_2d(D4000n,HdHg,np.log10(LW_agei),bins=n_bins,statistic='median',expand_binnumbers=True )\n",
    "agelw_i_rms1684=stats.binned_statistic_2d(D4000n,HdHg,np.log10(LW_agei),bins=n_bins,statistic=rms_1684,expand_binnumbers=True )\n",
    "med_loglwage_z=stats.binned_statistic_2d(D4000n,HdHg,np.log10(LW_agez),bins=n_bins,statistic='median',expand_binnumbers=True )\n",
    "agelw_z_rms1684=stats.binned_statistic_2d(D4000n,HdHg,np.log10(LW_agez),bins=n_bins,statistic=rms_1684,expand_binnumbers=True )\n",
    "\n",
    "med_logmpwage=stats.binned_statistic_2d(D4000n,HdHg,np.log10(MPW_age),bins=n_bins,statistic='median',expand_binnumbers=True )\n",
    "agempw_rms1684=stats.binned_statistic_2d(D4000n,HdHg,np.log10(MPW_age),bins=n_bins,statistic=rms_1684,expand_binnumbers=True )"
   ]
  },
  {
   "cell_type": "code",
   "execution_count": null,
   "metadata": {},
   "outputs": [],
   "source": [
    "fig1,axs1=plt.subplots(3,7,figsize=(25,10))\n",
    "plt1_ld=axs1[0,5].pcolormesh(x,y,med_logmpwage.statistic,cmap=cm.rainbow,vmin=8.0,vmax=10.25)\n",
    "plt3_ld=axs1[2,5].pcolormesh(x,y,med_logmpwage.statistic-med_logmwage.statistic,cmap=cm.rainbow,vmin=-1, vmax=0.01)\n",
    "plt2_ld=axs1[1,5].pcolormesh(x,y,agempw_rms1684.statistic, cmap=cm.hot,vmin=0.0,vmax=0.55)\n",
    "\n",
    "fig.colorbar(plt2_ld, ax=[axs1[1,6]], location='left')\n",
    "fig.colorbar(plt1_ld, ax=[axs1[0,6]], location='left')\n",
    "fig.colorbar(plt3_ld, ax=[axs1[2,6]], location='left')\n",
    "\n",
    "axs1[2,2].set_xlabel('D4000n')\n",
    "axs1[2,0].set_xlabel('D4000n')\n",
    "axs1[0,0].set_ylabel('HdHg')\n",
    "axs1[2,1].set_xlabel('D4000n')\n",
    "axs1[1,0].set_ylabel('HdHg')\n",
    "axs1[2,0].set_ylabel('HdHg')\n",
    "axs1[2,3].set_xlabel('D4000n')\n",
    "axs1[2,4].set_xlabel('D4000n')\n",
    "axs1[2,5].set_xlabel('D4000n')\n",
    "\n",
    "\n",
    "axs1[0,6].axis('off')\n",
    "axs1[1,6].axis('off')\n",
    "axs1[2,6].axis('off')\n",
    "\n",
    "\n",
    "axs1[0,0].pcolormesh(x,y,med_loglwage_u.statistic,cmap=cm.rainbow,vmin=8.0,vmax=10.25)\n",
    "axs1[0,1].pcolormesh(x,y,med_loglwage_g.statistic,cmap=cm.rainbow,vmin=8.0,vmax=10.25)\n",
    "axs1[0,2].pcolormesh(x,y,med_loglwage_r.statistic,cmap=cm.rainbow,vmin=8.0,vmax=10.25)\n",
    "axs1[0,3].pcolormesh(x,y,med_loglwage_i.statistic,cmap=cm.rainbow,vmin=8.0,vmax=10.25)\n",
    "axs1[0,4].pcolormesh(x,y,med_loglwage_z.statistic,cmap=cm.rainbow,vmin=8.0,vmax=10.25)\n",
    "\n",
    "axs1[1,0].pcolormesh(x,y,agelw_u_rms1684.statistic,cmap=cm.hot,vmin=0.0,vmax=0.55)\n",
    "axs1[1,1].pcolormesh(x,y,agelw_g_rms1684.statistic,cmap=cm.hot,vmin=0.0,vmax=0.55)\n",
    "axs1[1,2].pcolormesh(x,y,agelw_r_rms1684.statistic,cmap=cm.hot,vmin=0.0,vmax=0.55)\n",
    "axs1[1,3].pcolormesh(x,y,agelw_i_rms1684.statistic,cmap=cm.hot,vmin=0.0,vmax=0.55)\n",
    "axs1[1,4].pcolormesh(x,y,agelw_z_rms1684.statistic,cmap=cm.hot,vmin=0.0,vmax=0.55)\n",
    "\n",
    "axs1[2,0].pcolormesh(x,y,med_loglwage_u.statistic-med_logmwage.statistic,cmap=cm.rainbow, vmin=-1, vmax=0.01)\n",
    "axs1[2,1].pcolormesh(x,y,med_loglwage_g.statistic-med_logmwage.statistic,cmap=cm.rainbow, vmin=-1, vmax=0.01)\n",
    "axs1[2,2].pcolormesh(x,y,med_loglwage_r.statistic-med_logmwage.statistic,cmap=cm.rainbow, vmin=-1, vmax=0.01)\n",
    "axs1[2,3].pcolormesh(x,y,med_loglwage_i.statistic-med_logmwage.statistic,cmap=cm.rainbow, vmin=-1, vmax=0.01)\n",
    "axs1[2,4].pcolormesh(x,y,med_loglwage_z.statistic-med_logmwage.statistic,cmap=cm.rainbow, vmin=-1, vmax=0.01)\n",
    "\n",
    "axs1[0,0].set_title('log(lwage)_u')\n",
    "axs1[0,1].set_title('log(lwage)_g')\n",
    "axs1[0,2].set_title('log(lwage)_r')\n",
    "axs1[0,3].set_title('log(lwage)_i')\n",
    "axs1[0,4].set_title('log(lwage)_z')\n",
    "axs1[0,5].set_title('log(mpwage)')\n",
    "\n",
    "axs1[1,0].set_title('rms1684_log(lwage)_u')\n",
    "axs1[1,1].set_title('rms1684_log(lwage)_g')\n",
    "axs1[1,2].set_title('rms1684_log(lwage)_r')\n",
    "axs1[1,3].set_title('rms1684_log(lwage)_i')\n",
    "axs1[1,4].set_title('rms1684_log(lwage)_z')\n",
    "axs1[1,5].set_title('rms1684_log(mpwage)')\n",
    "\n",
    "axs1[2,0].set_title('lwage-mwage_u')\n",
    "axs1[2,1].set_title('lwage-mwage_g')\n",
    "axs1[2,2].set_title('lwage-mwage_r')\n",
    "axs1[2,3].set_title('lwage-mwage_i')\n",
    "axs1[2,4].set_title('lwage-mwage_z')\n",
    "axs1[2,5].set_title('mpwage-mwage')"
   ]
  },
  {
   "cell_type": "code",
   "execution_count": null,
   "metadata": {},
   "outputs": [],
   "source": [
    "#fig1.savefig(workdir+'all_lw_mpw.png')"
   ]
  },
  {
   "cell_type": "code",
   "execution_count": null,
   "metadata": {},
   "outputs": [],
   "source": [
    "np.nanmax(med_loglwage_z.statistic-med_logmwage.statistic)  #la luminosità delle ssp non decresce in modo monotono"
   ]
  },
  {
   "cell_type": "code",
   "execution_count": null,
   "metadata": {},
   "outputs": [],
   "source": [
    "fig, axs=plt.subplots(figsize=(5,5))\n",
    "axs.pcolormesh(x,y,med_logmwage.statistic,cmap=cm.bone, vmin=10.0)\n",
    "plt.plot(d4000nssp_matrix[...,5], hghdssp_matrix[...,5], c='red', label='2.5 solar metallicity')\n",
    "plt.plot(d4000nssp_matrix[...,4], hghdssp_matrix[...,4], c='yellow', label='1 solar metallicity')\n",
    "plt.plot(d4000nssp_matrix[...,3], hghdssp_matrix[...,3], c='cyan', label='0.4 solar metallicity')\n",
    "plt.plot(d4000nssp_matrix[...,2], hghdssp_matrix[...,2], c='blue', label='0.2 solar metallicitty')\n",
    "plt.plot(d4000nssp_matrix[...,1], hghdssp_matrix[...,1], c='violet', label='0.02 solar metallicity')\n",
    "#plt.plot(d4000nssp_matrix[...,0], hghdssp_matrix[...,0], c='green', label='0.005 solar metallicity')\n",
    "\n",
    "axs.set_xlabel('D4000n')\n",
    "axs.set_ylabel('HdHg')\n",
    "axs.legend(loc='upper right')"
   ]
  },
  {
   "cell_type": "code",
   "execution_count": null,
   "metadata": {},
   "outputs": [],
   "source": [
    "#fig.savefig(workdir+'ssp_different_metallicity.png')"
   ]
  },
  {
   "cell_type": "code",
   "execution_count": null,
   "metadata": {},
   "outputs": [],
   "source": [
    "age5090_rms1684=stats.binned_statistic_2d(D4000n,HdHg,np.log10(age50-age90),bins=n_bins,statistic=rms_1684,expand_binnumbers=True )\n",
    "age1050_rms1684=stats.binned_statistic_2d(D4000n,HdHg,np.log10(age10-age50),bins=n_bins,statistic=rms_1684,expand_binnumbers=True )\n",
    "age50_age90=stats.binned_statistic_2d(D4000n,HdHg,(age50-age90),bins=n_bins,statistic='median',expand_binnumbers=True )\n",
    "age10_age50=stats.binned_statistic_2d(D4000n,HdHg,(age10-age50),bins=n_bins,statistic='median',expand_binnumbers=True )"
   ]
  },
  {
   "cell_type": "code",
   "execution_count": null,
   "metadata": {},
   "outputs": [],
   "source": [
    "#age5090nb_rms1684=stats.binned_statistic_2d(D4000n_nb,HdHg_nb,np.log10(age50_nb-age90_nb),bins=n_bins,statistic=rms_1684,expand_binnumbers=True )\n",
    "#age1090nb_rms1684=stats.binned_statistic_2d(D4000n_nb,HdHg_nb,np.log10(age10_nb-age90_nb),bins=n_bins,statistic=rms_1684,expand_binnumbers=True )\n",
    "#age10_age90nb=stats.binned_statistic_2d(D4000n_nb,HdHg_nb,age10_nb-age90_nb,bins=n_bins,statistic='median',expand_binnumbers=True )\n",
    "#age25_age90nb=stats.binned_statistic_2d(D4000n_nb,HdHg_nb,(age25_nb-age90_nb),bins=n_bins,statistic='median',expand_binnumbers=True )"
   ]
  },
  {
   "cell_type": "code",
   "execution_count": null,
   "metadata": {},
   "outputs": [],
   "source": [
    "fig1,axs1=plt.subplots(2,3,figsize=(15,10))\n",
    "plt1=axs1[0,1].pcolormesh(x,y,np.log10(age50_age90.statistic),cmap=cm.rainbow,vmin=8.0,vmax=10.00)\n",
    "plt2=axs1[1,1].pcolormesh(x,y,(age5090_rms1684.statistic), cmap=cm.hot,vmin=0.0,vmax=1.0)\n",
    "fig.colorbar(plt2, ax=[axs1[1,2]], location='left')\n",
    "fig.colorbar(plt1, ax=[axs1[0,2]], location='left')\n",
    "\n",
    "axs1[1,1].set_xlabel('D4000n')\n",
    "axs1[0,0].set_ylabel('HdHg')\n",
    "axs1[1,0].set_xlabel('D4000n')\n",
    "axs1[1,0].set_ylabel('HdHg')\n",
    "axs1[0,2].axis('off')\n",
    "axs1[1,2].axis('off')\n",
    "axs1[1,1].set_title('age5090_rms1684')\n",
    "axs1[0,1].set_title('age50_age90')      \n",
    "axs1[1,0].set_title('age1050_rms1684')\n",
    "axs1[0,0].set_title('age10_age50')      \n",
    "\n",
    "axs1[0,0].pcolormesh(x,y,np.log10(age10_age50.statistic),cmap=cm.rainbow,vmin=8.0,vmax=10.00)\n",
    "axs1[1,0].pcolormesh(x,y,(age1050_rms1684.statistic), cmap=cm.hot,vmin=0.0,vmax=1.0)"
   ]
  },
  {
   "cell_type": "code",
   "execution_count": null,
   "metadata": {},
   "outputs": [],
   "source": [
    "age5090norm_rms1684=stats.binned_statistic_2d(D4000n,HdHg,np.log10((age50-age90)/MW_age),bins=n_bins,statistic=rms_1684,expand_binnumbers=True )\n",
    "age1050norm_rms1684=stats.binned_statistic_2d(D4000n,HdHg,np.log10((age10-age50)/MW_age),bins=n_bins,statistic=rms_1684,expand_binnumbers=True )\n",
    "age50_age90norm=stats.binned_statistic_2d(D4000n,HdHg,(age50-age90)/MW_age,bins=n_bins,statistic='median',expand_binnumbers=True )\n",
    "age10_age50norm=stats.binned_statistic_2d(D4000n,HdHg,(age10-age50)/MW_age,bins=n_bins,statistic='median',expand_binnumbers=True )"
   ]
  },
  {
   "cell_type": "code",
   "execution_count": null,
   "metadata": {},
   "outputs": [],
   "source": [
    "fig1,axs1=plt.subplots(2,3,figsize=(15,10))\n",
    "plt1=axs1[0,1].pcolormesh(x,y,np.log10(age50_age90norm.statistic),cmap=cm.rainbow)\n",
    "plt2=axs1[1,1].pcolormesh(x,y,(age5090norm_rms1684.statistic), cmap=cm.hot,vmin=0.0,vmax=1.0)\n",
    "fig.colorbar(plt2, ax=[axs1[1,2]], location='left')\n",
    "fig.colorbar(plt1, ax=[axs1[0,2]], location='left')\n",
    "\n",
    "axs1[1,1].set_xlabel('D4000n')\n",
    "axs1[0,0].set_ylabel('HdHg')\n",
    "axs1[1,0].set_xlabel('D4000n')\n",
    "axs1[1,0].set_ylabel('HdHg')\n",
    "axs1[0,2].axis('off')\n",
    "axs1[1,2].axis('off')\n",
    "axs1[1,1].set_title('age5090/mw_age_rms1684')\n",
    "axs1[0,1].set_title('age50_age90/mw_age')      \n",
    "axs1[1,0].set_title('age1050/mw_age_rms1684')\n",
    "axs1[0,0].set_title('age10_age50/mw_age')      \n",
    "\n",
    "axs1[0,0].pcolormesh(x,y,np.log10(age10_age50norm.statistic),cmap=cm.rainbow)\n",
    "axs1[1,0].pcolormesh(x,y,(age1050norm_rms1684.statistic), cmap=cm.hot,vmin=0.0,vmax=1.0)"
   ]
  },
  {
   "cell_type": "code",
   "execution_count": null,
   "metadata": {},
   "outputs": [],
   "source": [
    "np.size(age90)"
   ]
  },
  {
   "cell_type": "code",
   "execution_count": null,
   "metadata": {},
   "outputs": [],
   "source": [
    "age50[28]-age90[28]"
   ]
  },
  {
   "cell_type": "code",
   "execution_count": null,
   "metadata": {},
   "outputs": [],
   "source": []
  }
 ],
 "metadata": {
  "kernelspec": {
   "display_name": "Python 3",
   "language": "python",
   "name": "python3"
  },
  "language_info": {
   "codemirror_mode": {
    "name": "ipython",
    "version": 3
   },
   "file_extension": ".py",
   "mimetype": "text/x-python",
   "name": "python",
   "nbconvert_exporter": "python",
   "pygments_lexer": "ipython3",
   "version": "3.8.3"
  }
 },
 "nbformat": 4,
 "nbformat_minor": 4
}
