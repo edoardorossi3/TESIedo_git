{
 "cells": [
  {
   "cell_type": "code",
   "execution_count": 1,
   "id": "ebe47d40-db33-4a33-bffb-f1706ea6ff52",
   "metadata": {},
   "outputs": [],
   "source": [
    "import numpy as np\n",
    "import matplotlib.pyplot as plt\n",
    "import os\n",
    "import astropy.io.fits as fits"
   ]
  },
  {
   "cell_type": "code",
   "execution_count": 2,
   "id": "c0078021-bae1-487d-bc1a-6ee67a163397",
   "metadata": {},
   "outputs": [],
   "source": [
    "work_dir=os.getenv('HOME')+'/Desktop/TESI/models/Sandage_varZ_v4.2eq_CB16MILES_ChFall/'\n",
    "f_name=work_dir+'sandage_varZ_v4.2eq_spec_dcomb0p25null_001.fits'\n",
    "f_par=work_dir+'sandage_varZ_v4.2eq_spec_dcomb0p25null_001_physpar_wagef.fits'\n"
   ]
  },
  {
   "cell_type": "code",
   "execution_count": 3,
   "id": "12ca5f18-aa8b-453d-930c-abae0b1cfaa7",
   "metadata": {},
   "outputs": [],
   "source": [
    "hdul=fits.open(f_name)\n",
    "hdul_par=fits.open(f_par)\n",
    "\n",
    "y_data=hdul[1].data\n",
    "\n",
    "wl=hdul[0].data\n",
    "sel_wl=(wl<8500) & (wl>3500)\n",
    "\n",
    "wl=wl[sel_wl]\n",
    "y_data=y_data[...,sel_wl]\n"
   ]
  },
  {
   "cell_type": "code",
   "execution_count": 4,
   "id": "abf8f80d-c7b1-49bd-832d-d45021064e9f",
   "metadata": {},
   "outputs": [],
   "source": [
    "age10=np.log10(hdul_par[1].data['age10'])\n",
    "age90=np.log10(hdul_par[1].data['age90'])\n",
    "age50=np.log10(hdul_par[1].data['age50'])\n",
    "dage_n=(age10-age90)/age50"
   ]
  },
  {
   "cell_type": "code",
   "execution_count": 5,
   "id": "e539e6f9-cc19-432d-b10e-5624c9d489da",
   "metadata": {},
   "outputs": [],
   "source": [
    "idx_ref=np.argmin(dage_n)\n",
    "sel_norm=(wl<5550)&(wl>5450)\n",
    "wl_norm=wl[sel_norm]\n",
    "norm=np.mean(y_data[...,sel_norm], axis=1)"
   ]
  },
  {
   "cell_type": "code",
   "execution_count": 6,
   "id": "eff91f2e-6de2-4f92-ae7e-63e3a5a9b366",
   "metadata": {},
   "outputs": [],
   "source": [
    "y_data_norm=np.transpose(y_data)/norm\n",
    "y_data=np.transpose(y_data_norm)"
   ]
  },
  {
   "cell_type": "code",
   "execution_count": 7,
   "id": "e981f3fd-9fd0-4937-a3a2-0e458be2e048",
   "metadata": {},
   "outputs": [],
   "source": [
    "delta_new=(y_data-y_data[idx_ref, ...])/np.std(y_data, axis=0)"
   ]
  },
  {
   "cell_type": "code",
   "execution_count": 8,
   "id": "8343e7c5-88ea-45b5-afd9-63f6ba8056c3",
   "metadata": {},
   "outputs": [
    {
     "data": {
      "text/plain": [
       "[<matplotlib.lines.Line2D at 0x7f6438702b20>]"
      ]
     },
     "execution_count": 8,
     "metadata": {},
     "output_type": "execute_result"
    },
    {
     "data": {
      "image/png": "[encoded data removed]",
      "text/plain": [
       "<Figure size 432x288 with 1 Axes>"
      ]
     },
     "metadata": {
      "needs_background": "light"
     },
     "output_type": "display_data"
    }
   ],
   "source": [
    "plt.plot(wl, delta_new[12006])"
   ]
  }
 ],
 "metadata": {
  "kernelspec": {
   "display_name": "Python 3",
   "language": "python",
   "name": "python3"
  },
  "language_info": {
   "codemirror_mode": {
    "name": "ipython",
    "version": 3
   },
   "file_extension": ".py",
   "mimetype": "text/x-python",
   "name": "python",
   "nbconvert_exporter": "python",
   "pygments_lexer": "ipython3",
   "version": "3.8.10"
  }
 },
 "nbformat": 4,
 "nbformat_minor": 5
}
