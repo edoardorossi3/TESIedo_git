{
 "cells": [
  {
   "cell_type": "code",
   "execution_count": 1,
   "id": "imposed-chemistry",
   "metadata": {},
   "outputs": [],
   "source": [
    "import os \n",
    "import astropy.io.fits as fits\n",
    "import numpy as np\n",
    "import matplotlib.pyplot as plt\n",
    "import scipy.stats as stats\n",
    "import matplotlib.cm as cm\n",
    "import function_plot as f_plt"
   ]
  },
  {
   "cell_type": "code",
   "execution_count": 2,
   "id": "standard-zambia",
   "metadata": {},
   "outputs": [],
   "source": [
    "z='62'\n",
    "work_dir=os.getenv('HOME')+'/Desktop/TESI/models/Sandage_v4.1_Zfix_noburst_bc03MILES_100k/'\n",
    "idx_file=work_dir+'sandage_varZ_v4.1_m62fix_noburst_100k_spec_dcombnull_idx_001.fits'\n",
    "par_file=work_dir+'sandage_varZ_v4.1_m62fix_noburst_100k_spec_dcombnull_001_physpar_wagef.fits'\n",
    "model_file=work_dir+'sandage_varZ_v4.1_m62fix_noburst_100k.fits'\n",
    "file_pert=work_dir+'sandage_varZ_v4.1_m62fix_noburst_100k_spec_dcombnull_perterr_001.fits'\n"
   ]
  },
  {
   "cell_type": "code",
   "execution_count": 3,
   "id": "advisory-chase",
   "metadata": {},
   "outputs": [],
   "source": [
    "hdul_idx=fits.open(idx_file)\n",
    "hdul_par=fits.open(par_file)\n",
    "hdul_model=fits.open(model_file)\n",
    "hdul_pert=fits.open(file_pert)\n",
    "\n",
    "\n",
    "d4000n=hdul_idx[1].data['D4000N'][...,4]\n",
    "hdhg=hdul_idx[1].data['HdHg'][...,4]\n",
    "Hb=hdul_idx[1].data['Lick_Hb'][...,4]\n",
    "mg2fe=hdul_idx[1].data['Mg2Fe'][...,4]\n",
    "mgfep=hdul_idx[1].data['MgFe_prime'][...,4]\n",
    "\n",
    "mag_u=hdul_par[1].data['ABMAG'][...,0]\n",
    "mag_g=hdul_par[1].data['ABMAG'][...,1]\n",
    "mag_r=hdul_par[1].data['ABMAG'][...,2]\n",
    "mag_i=hdul_par[1].data['ABMAG'][...,3]\n",
    "mag_z=hdul_par[1].data['ABMAG'][...,4]\n",
    "\n",
    "age10=hdul_par[1].data['age10']\n",
    "age25=hdul_par[1].data['age25']\n",
    "age50=hdul_par[1].data['age50']\n",
    "age75=hdul_par[1].data['age75']\n",
    "age90=hdul_par[1].data['age90']\n",
    "\n",
    "sigma_D4000n=hdul_pert[1].data['D4000N_ERR_SNR020']\n",
    "sigma_hdhg=hdul_pert[1].data['HDHG_ERR_SNR020']\n",
    "sigma_Hb=hdul_pert[1].data['LICK_HB_ERR_SNR020']\n",
    "sigma_mgfep=hdul_pert[1].data['MGFE_PRIME_ERR_SNR020']\n",
    "sigma_mg2fe=hdul_pert[1].data['MG2FE_ERR_SNR020']\n",
    "\n",
    "sigma_u=hdul_pert[1].data['ERR_MAG_U']\n",
    "sigma_g=hdul_pert[1].data['ERR_MAG_G']\n",
    "sigma_r=hdul_pert[1].data['ERR_MAG_R']\n",
    "sigma_i=hdul_pert[1].data['ERR_MAG_I']\n",
    "sigma_z=hdul_pert[1].data['ERR_MAG_Z']\n",
    "\n",
    "t_form=hdul_model[1].data['LOGTFORM']\n",
    "\n",
    "d1090n50=np.log10((age10-age90)/age50)"
   ]
  },
  {
   "cell_type": "code",
   "execution_count": 4,
   "id": "plastic-preserve",
   "metadata": {},
   "outputs": [],
   "source": [
    "sigma1=sigma_D4000n\n",
    "sigma2=sigma_hdhg\n",
    "sigma3=sigma_Hb\n",
    "sigma4=sigma_mg2fe\n",
    "sigma5=sigma_mgfep\n",
    "\n",
    "sigma6=np.sqrt(sigma_u**2+sigma_r**2)\n",
    "sigma7=np.sqrt(sigma_g**2+sigma_r**2)\n",
    "sigma8=np.sqrt(sigma_r**2+sigma_i**2)\n",
    "sigma9=np.sqrt(sigma_r**2+sigma_z**2)"
   ]
  },
  {
   "cell_type": "code",
   "execution_count": 5,
   "id": "departmental-intake",
   "metadata": {},
   "outputs": [
    {
     "ename": "NameError",
     "evalue": "name 'd1090n50' is not defined",
     "output_type": "error",
     "traceback": [
      "\u001b[0;31m---------------------------------------------------------------------------\u001b[0m",
      "\u001b[0;31mNameError\u001b[0m                                 Traceback (most recent call last)",
      "\u001b[0;32m<ipython-input-5-0d26aaca7747>\u001b[0m in \u001b[0;36m<module>\u001b[0;34m\u001b[0m\n\u001b[0;32m----> 1\u001b[0;31m \u001b[0midx_ref\u001b[0m\u001b[0;34m=\u001b[0m\u001b[0;34m(\u001b[0m\u001b[0;34m(\u001b[0m\u001b[0md1090n50\u001b[0m\u001b[0;34m<\u001b[0m\u001b[0;34m-\u001b[0m\u001b[0;36m1.0\u001b[0m\u001b[0;34m)\u001b[0m\u001b[0;34m&\u001b[0m\u001b[0;34m(\u001b[0m\u001b[0mnp\u001b[0m\u001b[0;34m.\u001b[0m\u001b[0mlog10\u001b[0m\u001b[0;34m(\u001b[0m\u001b[0mage50\u001b[0m\u001b[0;34m)\u001b[0m\u001b[0;34m<\u001b[0m\u001b[0;36m8.9\u001b[0m\u001b[0;34m)\u001b[0m\u001b[0;34m&\u001b[0m \u001b[0;34m(\u001b[0m\u001b[0mnp\u001b[0m\u001b[0;34m.\u001b[0m\u001b[0mlog10\u001b[0m\u001b[0;34m(\u001b[0m\u001b[0mage50\u001b[0m\u001b[0;34m)\u001b[0m\u001b[0;34m>\u001b[0m\u001b[0;36m8.85\u001b[0m\u001b[0;34m)\u001b[0m\u001b[0;34m)\u001b[0m\u001b[0;34m\u001b[0m\u001b[0;34m\u001b[0m\u001b[0m\n\u001b[0m\u001b[1;32m      2\u001b[0m \u001b[0midx_sel\u001b[0m\u001b[0;34m=\u001b[0m\u001b[0;34m(\u001b[0m\u001b[0;34m(\u001b[0m\u001b[0mnp\u001b[0m\u001b[0;34m.\u001b[0m\u001b[0mlog10\u001b[0m\u001b[0;34m(\u001b[0m\u001b[0mage50\u001b[0m\u001b[0;34m)\u001b[0m\u001b[0;34m<\u001b[0m\u001b[0;36m8.9\u001b[0m\u001b[0;34m)\u001b[0m\u001b[0;34m&\u001b[0m \u001b[0;34m(\u001b[0m\u001b[0mnp\u001b[0m\u001b[0;34m.\u001b[0m\u001b[0mlog10\u001b[0m\u001b[0;34m(\u001b[0m\u001b[0mage50\u001b[0m\u001b[0;34m)\u001b[0m\u001b[0;34m>\u001b[0m\u001b[0;36m8.85\u001b[0m\u001b[0;34m)\u001b[0m\u001b[0;34m)\u001b[0m\u001b[0;34m\u001b[0m\u001b[0;34m\u001b[0m\u001b[0m\n\u001b[1;32m      3\u001b[0m \u001b[0mfig_9091tot\u001b[0m\u001b[0;34m,\u001b[0m \u001b[0mt_res9091\u001b[0m\u001b[0;34m=\u001b[0m\u001b[0mf_plt\u001b[0m\u001b[0;34m.\u001b[0m\u001b[0mchi_q\u001b[0m\u001b[0;34m(\u001b[0m\u001b[0md1090n50\u001b[0m\u001b[0;34m,\u001b[0m\u001b[0md4000n\u001b[0m\u001b[0;34m,\u001b[0m\u001b[0mhdhg\u001b[0m\u001b[0;34m,\u001b[0m\u001b[0mHb\u001b[0m\u001b[0;34m,\u001b[0m\u001b[0mmg2fe\u001b[0m\u001b[0;34m,\u001b[0m\u001b[0mmgfep\u001b[0m\u001b[0;34m,\u001b[0m\u001b[0mmag_u\u001b[0m\u001b[0;34m-\u001b[0m\u001b[0mmag_r\u001b[0m\u001b[0;34m,\u001b[0m\u001b[0mmag_g\u001b[0m\u001b[0;34m-\u001b[0m\u001b[0mmag_r\u001b[0m\u001b[0;34m,\u001b[0m \u001b[0mmag_r\u001b[0m\u001b[0;34m-\u001b[0m\u001b[0mmag_i\u001b[0m\u001b[0;34m,\u001b[0m \u001b[0mmag_r\u001b[0m\u001b[0;34m-\u001b[0m\u001b[0mmag_z\u001b[0m\u001b[0;34m,\u001b[0m \u001b[0midx_sel\u001b[0m\u001b[0;34m,\u001b[0m\u001b[0midx_ref\u001b[0m\u001b[0;34m,\u001b[0m\u001b[0msigma1\u001b[0m\u001b[0;34m=\u001b[0m\u001b[0msigma1\u001b[0m\u001b[0;34m,\u001b[0m\u001b[0msigma2\u001b[0m\u001b[0;34m=\u001b[0m\u001b[0msigma2\u001b[0m\u001b[0;34m,\u001b[0m\u001b[0msigma3\u001b[0m\u001b[0;34m=\u001b[0m\u001b[0msigma3\u001b[0m\u001b[0;34m,\u001b[0m\u001b[0msigma4\u001b[0m\u001b[0;34m=\u001b[0m\u001b[0msigma4\u001b[0m\u001b[0;34m,\u001b[0m\u001b[0msigma5\u001b[0m\u001b[0;34m=\u001b[0m\u001b[0msigma5\u001b[0m\u001b[0;34m,\u001b[0m\u001b[0msigma6\u001b[0m\u001b[0;34m=\u001b[0m\u001b[0msigma6\u001b[0m\u001b[0;34m,\u001b[0m\u001b[0msigma7\u001b[0m\u001b[0;34m=\u001b[0m\u001b[0msigma7\u001b[0m\u001b[0;34m,\u001b[0m\u001b[0msigma8\u001b[0m\u001b[0;34m=\u001b[0m\u001b[0msigma8\u001b[0m\u001b[0;34m,\u001b[0m\u001b[0msigma9\u001b[0m\u001b[0;34m=\u001b[0m\u001b[0msigma9\u001b[0m\u001b[0;34m,\u001b[0m\u001b[0mfigsize\u001b[0m\u001b[0;34m=\u001b[0m\u001b[0;34m(\u001b[0m\u001b[0;36m15\u001b[0m\u001b[0;34m,\u001b[0m\u001b[0;36m5\u001b[0m\u001b[0;34m)\u001b[0m\u001b[0;34m,\u001b[0m \u001b[0mtitle\u001b[0m\u001b[0;34m=\u001b[0m\u001b[0;34m'nb, m62fix, 8.85<age50<8.9, obs'\u001b[0m\u001b[0;34m,\u001b[0m \u001b[0mylim\u001b[0m\u001b[0;34m=\u001b[0m\u001b[0;34m[\u001b[0m\u001b[0;36m0.001\u001b[0m\u001b[0;34m,\u001b[0m\u001b[0;32mNone\u001b[0m\u001b[0;34m]\u001b[0m\u001b[0;34m,\u001b[0m \u001b[0mtoll\u001b[0m\u001b[0;34m=\u001b[0m\u001b[0;36m0.01\u001b[0m\u001b[0;34m,\u001b[0m\u001b[0msigma_obs\u001b[0m\u001b[0;34m=\u001b[0m\u001b[0;32mTrue\u001b[0m \u001b[0;34m)\u001b[0m\u001b[0;34m\u001b[0m\u001b[0;34m\u001b[0m\u001b[0m\n",
      "\u001b[0;31mNameError\u001b[0m: name 'd1090n50' is not defined"
     ]
    }
   ],
   "source": [
    "idx_ref=((d1090n50<-1.0)&(np.log10(age50)<8.9)& (np.log10(age50)>8.85))\n",
    "idx_sel=((np.log10(age50)<8.9)& (np.log10(age50)>8.85))\n",
    "fig_9091tot, t_res9091=f_plt.chi_q(d1090n50,d4000n,hdhg,Hb,mg2fe,mgfep,mag_u-mag_r,mag_g-mag_r, mag_r-mag_i, mag_r-mag_z, idx_sel,idx_ref,sigma1=sigma1,sigma2=sigma2,sigma3=sigma3,sigma4=sigma4,sigma5=sigma5,sigma6=sigma6,sigma7=sigma7,sigma8=sigma8,sigma9=sigma9,figsize=(15,5), title='nb, m62fix, 8.85<age50<8.9, obs', ylim=[0.001,None], toll=0.01,sigma_obs=True )"
   ]
  },
  {
   "cell_type": "code",
   "execution_count": null,
   "id": "increased-ancient",
   "metadata": {},
   "outputs": [],
   "source": [
    "idx_ref=((d1090n50<-1.0)&(np.log10(age50)<8.9)& (np.log10(age50)>8.85))\n",
    "idx_sel=((np.log10(age50)<8.9)& (np.log10(age50)>8.85))\n",
    "fig_9091tot, t_res9091=f_plt.chi_q(d1090n50,d4000n,hdhg,Hb,mg2fe,mgfep,mag_u-mag_r,mag_g-mag_r, mag_r-mag_i, mag_r-mag_z, idx_sel,idx_ref,figsize=(15,5), title='nb, m62fix, 8.85<age50<8.9', ylim=[0.001,None], toll=0.01)"
   ]
  },
  {
   "cell_type": "code",
   "execution_count": null,
   "id": "double-nature",
   "metadata": {},
   "outputs": [],
   "source": [
    "n_chunks=5\n",
    "for i_chunks in range(2, n_chunks+1):\n",
    "    _idx_file=work_dir+'sandage_varZ_v4.1_m62fix_noburst_100k_spec_dcombnull_idx_{:03d}.fits'\n",
    "    _par_file=work_dir+'sandage_varZ_v4.1_m62fix_noburst_100k_spec_dcombnull_{:03d}_physpar_wagef.fits'\n",
    "    \n",
    "    _hdul_idx=fits.open(_idx_file.format(i_chunks))\n",
    "    _hdul_par=fits.open(_par_file.format(i_chunks))\n",
    "\n",
    "    _d4000n=_hdul_idx[1].data['D4000N'][...,4]\n",
    "    _hdhg=_hdul_idx[1].data['HdHg'][...,4]\n",
    "    _Hb=_hdul_idx[1].data['Lick_Hb'][...,4]\n",
    "    _mg2fe=_hdul_idx[1].data['Mg2Fe'][...,4]\n",
    "    _mgfep=_hdul_idx[1].data['MgFe_prime'][...,4]\n",
    "\n",
    "    _mag_u=_hdul_par[1].data['ABMAG'][...,0]\n",
    "    _mag_g=_hdul_par[1].data['ABMAG'][...,1]\n",
    "    _mag_r=_hdul_par[1].data['ABMAG'][...,2]\n",
    "    _mag_i=_hdul_par[1].data['ABMAG'][...,3]\n",
    "    _mag_z=_hdul_par[1].data['ABMAG'][...,4]\n",
    "\n",
    "    _age10=_hdul_par[1].data['age10']\n",
    "    _age25=_hdul_par[1].data['age25']\n",
    "    _age50=_hdul_par[1].data['age50']\n",
    "    _age75=_hdul_par[1].data['age75']\n",
    "    _age90=_hdul_par[1].data['age90']\n",
    "    \n",
    "    _sigma_D4000n=hdul_pert[1].data['D4000N_ERR_SNR020']\n",
    "    _sigma_hdhg=hdul_pert[1].data['HDHG_ERR_SNR020']\n",
    "    _sigma_Hb=hdul_pert[1].data['LICK_HB_ERR_SNR020']\n",
    "    _sigma_mgfep=hdul_pert[1].data['MGFE_PRIME_ERR_SNR020']\n",
    "    _sigma_mg2fe=hdul_pert[1].data['MG2FE_ERR_SNR020']\n",
    "    \n",
    "    _sigma_u=hdul_pert[1].data['ERR_MAG_U']\n",
    "    _sigma_g=hdul_pert[1].data['ERR_MAG_G']\n",
    "    _sigma_r=hdul_pert[1].data['ERR_MAG_R']\n",
    "    _sigma_i=hdul_pert[1].data['ERR_MAG_I']\n",
    "    _sigma_z=hdul_pert[1].data['ERR_MAG_Z']\n",
    "    \n",
    "    sigma_D4000n=np.append(sigma_D4000n, _sigma_D4000n)\n",
    "    sigma_hdhg=np.append(sigma_hdhg, _sigma_hdhg)\n",
    "    sigma_Hb=np.append(sigma_Hb, _sigma_Hb)\n",
    "    sigma_mgfep=np.append(sigma_mgfep, _sigma_mgfep)\n",
    "    sigma_mg2fe=np.append(sigma_mg2fe, _sigma_mg2fe)\n",
    "    \n",
    "    sigma_u=np.append(sigma_u, _sigma_u)\n",
    "    sigma_g=np.append(sigma_g, _sigma_g)\n",
    "    sigma_r=np.append(sigma_r, _sigma_r)\n",
    "    sigma_i=np.append(sigma_i, _sigma_i)\n",
    "    sigma_z=np.append(sigma_z, _sigma_z)\n",
    "\n",
    "    \n",
    "    d4000n=np.append(d4000n, _d4000n)\n",
    "    hdhg=np.append(hdhg, _hdhg)\n",
    "    Hb=np.append(Hb, _Hb)\n",
    "    mg2fe=np.append(mg2fe, _mg2fe)\n",
    "    mgfep=np.append(mgfep, _mgfep)\n",
    "    \n",
    "    mag_u=np.append(mag_u, _mag_u)\n",
    "    mag_g=np.append(mag_g, _mag_g)\n",
    "    mag_r=np.append(mag_r, _mag_r)\n",
    "    mag_i=np.append(mag_i, _mag_i)\n",
    "    mag_z=np.append(mag_z, _mag_z)\n",
    "    \n",
    "    age10=np.append(age10, _age10)\n",
    "    age25=np.append(age25, _age25)\n",
    "    age50=np.append(age50, _age50)\n",
    "    age75=np.append(age75, _age75)\n",
    "    age90=np.append(age90, _age90)\n",
    "    \n",
    "    \n",
    "d1090n50=np.log10((age10-age90)/age50)"
   ]
  },
  {
   "cell_type": "code",
   "execution_count": null,
   "id": "commercial-father",
   "metadata": {},
   "outputs": [],
   "source": [
    "fig_res_tot=f_plt.idx_resol(d1090n50,d4000n,hdhg, mgfep, mg2fe, Hb, par_name='d1090n50', idx_name=['d4000n', 'hdhg', 'mgfep', 'mg2fe', 'hb'], figsize=(15,10))"
   ]
  },
  {
   "cell_type": "code",
   "execution_count": null,
   "id": "promising-reception",
   "metadata": {},
   "outputs": [],
   "source": [
    "fig_res_tot_mag=f_plt.idx_resol(d1090n50,mag_u,mag_g, mag_r, mag_i, mag_z, par_name='d1090n50', idx_name=['u', 'g', 'r', 'i', 'z'], figsize=(15,10))"
   ]
  },
  {
   "cell_type": "code",
   "execution_count": null,
   "id": "minor-pocket",
   "metadata": {},
   "outputs": [],
   "source": [
    "idx_sel1=(np.log10(age50) <9.0) \n",
    "idx_sel2=(np.log10(age50) < 9.5) & (np.log10(age50) >9.0)\n",
    "idx_sel3=(np.log10(age50) >9.5) \n",
    "\n",
    "fig_resol3_idx=f_plt.idx_resol_stat4(d1090n50,idx_sel1,idx_sel2,idx_sel3,d4000n,hdhg, mgfep, mg2fe, Hb, x_name='d1090n50',par_name=['age50<9.0','age50_9.0-9.5','age50>9.5'], idx_name=['d4000n', 'hdhg', 'mgfep', 'mg2fe', 'hb'],bins=100, figsize=(15,10))"
   ]
  },
  {
   "cell_type": "code",
   "execution_count": null,
   "id": "moral-village",
   "metadata": {},
   "outputs": [],
   "source": [
    "idx_sel1=(np.log10(age50) <9.0) \n",
    "idx_sel2=(np.log10(age50) < 9.5) & (np.log10(age50) >9.0)\n",
    "idx_sel3=(np.log10(age50) >9.5) \n",
    "\n",
    "fig_resol_col=f_plt.idx_resol_stat4col(d1090n50,idx_sel1,idx_sel2,idx_sel3,mag_u-mag_r,mag_g-mag_r, mag_r-mag_i, mag_r-mag_z,figsize=(15,10), bins=100)"
   ]
  },
  {
   "cell_type": "code",
   "execution_count": null,
   "id": "serial-geneva",
   "metadata": {},
   "outputs": [],
   "source": [
    "idx_ref=((d1090n50<-1.0)&(np.log10(age50)<8.9)& (np.log10(age50)>8.85))\n",
    "idx_sel=((np.log10(age50)<8.9)& (np.log10(age50)>8.85))\n",
    "fig_9091tot, t_res9091=f_plt.chi_q(d1090n50,d4000n,hdhg,Hb,mg2fe,mgfep,mag_u-mag_r,mag_g-mag_r, mag_r-mag_i, mag_r-mag_z, idx_sel,idx_ref,figsize=(15,5), title='nb, m62fix, 8.85<age50<8.9', ylim=[0.001,None], toll=0.01)"
   ]
  },
  {
   "cell_type": "code",
   "execution_count": null,
   "id": "twelve-maker",
   "metadata": {},
   "outputs": [],
   "source": [
    "idx_ref=((d1090n50<-1.0)&(np.log10(age50)<8.9)& (np.log10(age50)>8.85))\n",
    "idx_sel=((np.log10(age50)<8.9)& (np.log10(age50)>8.85))\n",
    "fig_9091idx=f_plt.chi_q_comp_idx(d1090n50,d4000n,hdhg,Hb,mg2fe,mgfep, idx_sel,idx_ref,figsize=(15,10), title='nb, m32fix, 8.85<age50<8.9', ylim=[0.001, None])"
   ]
  },
  {
   "cell_type": "code",
   "execution_count": null,
   "id": "careful-breathing",
   "metadata": {},
   "outputs": [],
   "source": [
    "idx_ref=((d1090n50<-1.0)&(np.log10(age50)<8.9)& (np.log10(age50)>8.85))\n",
    "idx_sel=((np.log10(age50)<8.9)& (np.log10(age50)>8.85))\n",
    "fig_9091col=f_plt.chi_q_comp_col(d1090n50,mag_u-mag_r,mag_g-mag_r, mag_r-mag_i, mag_r-mag_z, idx_sel,idx_ref,figsize=(15,10), title='nb, m62fix, 8.85<age50<8.9', ylim=[0.001,None])"
   ]
  },
  {
   "cell_type": "code",
   "execution_count": null,
   "id": "closing-smoke",
   "metadata": {},
   "outputs": [],
   "source": [
    "idx_ref=((d1090n50<-1.0)&(np.log10(age50)<9.5)& (np.log10(age50)>9.45))\n",
    "idx_sel=((np.log10(age50)<9.5)& (np.log10(age50)>9.45))\n",
    "fig_9495tot, t_res9495=f_plt.chi_q(d1090n50,d4000n,hdhg,Hb,mg2fe,mgfep,mag_u-mag_r,mag_g-mag_r, mag_r-mag_i, mag_r-mag_z, idx_sel,idx_ref,figsize=(15,5), title='nb, m62fix, 9.45<age50<9.5', ylim=[0.001,None], toll=0.01)"
   ]
  },
  {
   "cell_type": "code",
   "execution_count": null,
   "id": "digital-richards",
   "metadata": {},
   "outputs": [],
   "source": [
    "idx_ref=((d1090n50<-1.0)&(np.log10(age50)<9.5)& (np.log10(age50)>9.45))\n",
    "idx_sel=((np.log10(age50)<9.5)& (np.log10(age50)>9.45))\n",
    "fig_9495idx=f_plt.chi_q_comp_idx(d1090n50,d4000n,hdhg,Hb,mg2fe,mgfep, idx_sel,idx_ref,figsize=(15,10), title='nb, m62fix, 9.45<age50<9.5', ylim=[0.001,None])"
   ]
  },
  {
   "cell_type": "code",
   "execution_count": null,
   "id": "final-kingdom",
   "metadata": {},
   "outputs": [],
   "source": [
    "idx_ref=((d1090n50<-1.0)&(np.log10(age50)<9.5)& (np.log10(age50)>9.45))\n",
    "idx_sel=((np.log10(age50)<9.5)& (np.log10(age50)>9.45))\n",
    "fig_9495col=f_plt.chi_q_comp_col(d1090n50,mag_u-mag_r,mag_g-mag_r, mag_r-mag_i, mag_r-mag_z, idx_sel,idx_ref,figsize=(15,10), title='nb, m62fix, 9.45<age50<9.5', ylim=[0.001,None])"
   ]
  },
  {
   "cell_type": "code",
   "execution_count": null,
   "id": "annoying-survey",
   "metadata": {},
   "outputs": [],
   "source": [
    "idx_ref=((d1090n50<-1.0)&(np.log10(age50)<9.8)& (np.log10(age50)>9.75))\n",
    "idx_sel=((np.log10(age50)<9.8)& (np.log10(age50)>9.75))\n",
    "fig_9798tot, t_res9798=f_plt.chi_q(d1090n50,d4000n,hdhg,Hb,mg2fe,mgfep,mag_u-mag_r,mag_g-mag_r, mag_r-mag_i, mag_r-mag_z, idx_sel,idx_ref,figsize=(15,5), title='nb, m62fix, 9.75<age50<9.8', ylim=[0.001,None], toll=0.01)"
   ]
  },
  {
   "cell_type": "code",
   "execution_count": null,
   "id": "dated-algeria",
   "metadata": {},
   "outputs": [],
   "source": [
    "idx_ref=((d1090n50<-1.0)&(np.log10(age50)<9.8)& (np.log10(age50)>9.75))\n",
    "idx_sel=((np.log10(age50)<9.8)& (np.log10(age50)>9.75))\n",
    "fig_9798idx=f_plt.chi_q_comp_idx(d1090n50,d4000n,hdhg,Hb,mg2fe,mgfep, idx_sel,idx_ref,figsize=(15,10), title='nb, m62fix, 9.75<age50<9.8', ylim=[0.001,None])"
   ]
  },
  {
   "cell_type": "code",
   "execution_count": null,
   "id": "dried-broadcast",
   "metadata": {},
   "outputs": [],
   "source": [
    "idx_ref=((d1090n50<-1.0)&(np.log10(age50)<9.8)& (np.log10(age50)>9.75))\n",
    "idx_sel=((np.log10(age50)<9.8)& (np.log10(age50)>9.75))\n",
    "fig_9798col=f_plt.chi_q_comp_col(d1090n50,mag_u-mag_r,mag_g-mag_r, mag_r-mag_i, mag_r-mag_z, idx_sel,idx_ref,figsize=(15,10), title='nb, m62fix, 9.75<age50<9.8', ylim=[0.001,None])"
   ]
  },
  {
   "cell_type": "code",
   "execution_count": null,
   "id": "liked-chick",
   "metadata": {},
   "outputs": [],
   "source": [
    "bins=30\n",
    "bin_age50=np.histogram(np.log10(age50), bins=bins, range=(8.65, 10.15))[1]"
   ]
  },
  {
   "cell_type": "code",
   "execution_count": null,
   "id": "amino-universal",
   "metadata": {},
   "outputs": [],
   "source": [
    "np.size(bin_age50)"
   ]
  },
  {
   "cell_type": "code",
   "execution_count": null,
   "id": "interstate-rotation",
   "metadata": {},
   "outputs": [],
   "source": [
    "t_res=np.array([0.0]*bins)"
   ]
  },
  {
   "cell_type": "code",
   "execution_count": null,
   "id": "altered-command",
   "metadata": {
    "tags": []
   },
   "outputs": [],
   "source": [
    "for i in range(0, bins):\n",
    "    idx_ref=((d1090n50<-1.0)&(np.log10(age50)<bin_age50[i+1])& (np.log10(age50)>bin_age50[i]))\n",
    "    idx_sel=((np.log10(age50)<bin_age50[i+1])& (np.log10(age50)>bin_age50[i]))\n",
    "    print('age50 bin:', bin_age50[i],'-', bin_age50[i+1])\n",
    "    fig,t_res[i]=f_plt.chi_q(d1090n50,d4000n,hdhg,Hb,mg2fe,mgfep,mag_u-mag_r,mag_g-mag_r, mag_r-mag_i, mag_r-mag_z, idx_sel,idx_ref, title=str(bin_age50[i])+'-'+str(bin_age50[i+1]), toll=0.0001, xmin=-1.5)\n",
    "    \n",
    "    print('')"
   ]
  },
  {
   "cell_type": "code",
   "execution_count": null,
   "id": "secure-rubber",
   "metadata": {},
   "outputs": [],
   "source": [
    "idx_ref=((d1090n50<-1.0)&(np.log10(age50)<9.45)& (np.log10(age50)>9.4))\n",
    "idx_sel=((np.log10(age50)<9.45)& (np.log10(age50)>9.4))\n",
    "fig,t_res_val=f_plt.chi_q(d1090n50,d4000n,hdhg,Hb,mg2fe,mgfep,mag_u-mag_r,mag_g-mag_r, mag_r-mag_i, mag_r-mag_z, idx_sel,idx_ref,figsize=(15,5), title='nb, m72fix, ',xmin=-1.5, toll=0.001)"
   ]
  },
  {
   "cell_type": "code",
   "execution_count": null,
   "id": "french-denmark",
   "metadata": {},
   "outputs": [],
   "source": [
    "np.sum(((d1090n50<-1.0)&(np.log10(age50)<10.15)& (np.log10(age50)>10.1) &(t_form<10.15)))"
   ]
  },
  {
   "cell_type": "code",
   "execution_count": null,
   "id": "fitting-local",
   "metadata": {},
   "outputs": [],
   "source": [
    "idx=((d1090n50<-1.0)&(np.log10(age50)<10.15)& (np.log10(age50)>10.1) &(t_form<10.15))\n",
    "plt.scatter(d1090n50[idx], d4000n[idx], s=1)"
   ]
  },
  {
   "cell_type": "code",
   "execution_count": null,
   "id": "incomplete-commissioner",
   "metadata": {},
   "outputs": [],
   "source": [
    "age50_binned=[0.0]*bins\n",
    "for i in range(0, bins):\n",
    "    age50_binned[i]=(bin_age50[i]+bin_age50[i+1])/2.0\n",
    "    \n",
    "\n",
    "\n",
    "fig, axs=plt.subplots(figsize=(5,5))\n",
    "axs.plot(age50_binned, t_res, color='red')\n",
    "axs.set_xlabel('age50')\n",
    "axs.set_ylabel('time_resolution (d1090n50 min)')\n",
    "axs.set_title('Z '+z+' fixed')\n",
    "axs.minorticks_on()\n",
    "axs.set_facecolor('#d8dcd6')"
   ]
  },
  {
   "cell_type": "code",
   "execution_count": null,
   "id": "protecting-local",
   "metadata": {},
   "outputs": [],
   "source": [
    "z32=-1.69897\n",
    "z42=-0.69897\n",
    "z52=-0.39794\n",
    "z62=0.0\n",
    "z72=0.39794"
   ]
  },
  {
   "cell_type": "code",
   "execution_count": null,
   "id": "indoor-fountain",
   "metadata": {},
   "outputs": [],
   "source": [
    "Z=[z32,z42,z52,z62,z72]"
   ]
  },
  {
   "cell_type": "code",
   "execution_count": null,
   "id": "prescribed-macedonia",
   "metadata": {},
   "outputs": [],
   "source": [
    "bin_z=np.histogram(Z, bins=5)[1]"
   ]
  },
  {
   "cell_type": "code",
   "execution_count": null,
   "id": "surprised-tanzania",
   "metadata": {},
   "outputs": [],
   "source": [
    "bin_z"
   ]
  },
  {
   "cell_type": "code",
   "execution_count": null,
   "id": "exclusive-volunteer",
   "metadata": {},
   "outputs": [],
   "source": [
    "x,y=np.meshgrid(bin_age50, bin_z)"
   ]
  },
  {
   "cell_type": "code",
   "execution_count": null,
   "id": "demonstrated-amplifier",
   "metadata": {},
   "outputs": [],
   "source": [
    "np.shape(y)"
   ]
  },
  {
   "cell_type": "code",
   "execution_count": null,
   "id": "anonymous-encounter",
   "metadata": {},
   "outputs": [],
   "source": [
    "time_res_file=work_dir+'Time_resol_Zfix.fits'\n",
    "list_t=fits.open(time_res_file)"
   ]
  },
  {
   "cell_type": "code",
   "execution_count": null,
   "id": "coated-variation",
   "metadata": {},
   "outputs": [],
   "source": [
    "list_t.info()"
   ]
  },
  {
   "cell_type": "code",
   "execution_count": null,
   "id": "limited-board",
   "metadata": {},
   "outputs": [],
   "source": [
    "table_t_res=(list_t[1].data)"
   ]
  },
  {
   "cell_type": "code",
   "execution_count": null,
   "id": "nearby-landing",
   "metadata": {},
   "outputs": [],
   "source": [
    "t_32=table_t_res['Log_d1090n50_min_z32']\n",
    "t_42=table_t_res['Log_d1090n50_min_z42']\n",
    "t_52=table_t_res['Log_d1090n50_min_z52']\n",
    "t_62=table_t_res['Log_d1090n50_min_z62']\n",
    "t_72=table_t_res['Log_d1090n50_min_z72']"
   ]
  },
  {
   "cell_type": "code",
   "execution_count": null,
   "id": "demonstrated-capture",
   "metadata": {},
   "outputs": [],
   "source": [
    "fig, ax=plt.subplots(figsize=(10,5))\n",
    "im=ax.pcolormesh(x, y, [t_32, t_42, t_52, t_62, t_72],cmap=cm.Spectral,vmin=-1.0)\n",
    "fig.colorbar(im, ax=ax)\n",
    "ax.set_xlabel('log(age50/yr)')\n",
    "ax.set_ylabel('log(z/z_sun)')\n",
    "ax.set_title('time resolution (d1090n50)')\n",
    "ax.set_yticklabels([])"
   ]
  },
  {
   "cell_type": "code",
   "execution_count": null,
   "id": "intense-municipality",
   "metadata": {},
   "outputs": [],
   "source": [
    "t_32"
   ]
  },
  {
   "cell_type": "code",
   "execution_count": null,
   "id": "regional-quantity",
   "metadata": {},
   "outputs": [],
   "source": [
    "fig, axs=plt.subplots(figsize=(10,10))\n",
    "axs.plot(age50_binned, t_32, label='z32')\n",
    "axs.plot(age50_binned, t_42, label='z42')\n",
    "\n",
    "axs.legend(loc='upper right')\n",
    "axs.set_facecolor('#d8dcd6')\n",
    "axs.set_xlabel('Log(age50)')\n",
    "axs.set_ylabel('time_resolution (d1090n50 min)')"
   ]
  },
  {
   "cell_type": "code",
   "execution_count": null,
   "id": "driving-latitude",
   "metadata": {},
   "outputs": [],
   "source": [
    "fig, axs=plt.subplots(figsize=(10,10))\n",
    "\n",
    "axs.plot(age50_binned, t_52, label='z52')\n",
    "axs.plot(age50_binned, t_62, label='z62')\n",
    "axs.plot(age50_binned, t_72, label='z72')\n",
    "axs.legend(loc='upper right')\n",
    "axs.set_facecolor('#d8dcd6')\n",
    "axs.set_xlabel('Log(age50)')\n",
    "axs.set_ylabel('time_resolution (d1090n50 min)')"
   ]
  },
  {
   "cell_type": "code",
   "execution_count": null,
   "id": "affecting-simple",
   "metadata": {},
   "outputs": [],
   "source": []
  }
 ],
 "metadata": {
  "kernelspec": {
   "display_name": "Python 3",
   "language": "python",
   "name": "python3"
  },
  "language_info": {
   "codemirror_mode": {
    "name": "ipython",
    "version": 3
   },
   "file_extension": ".py",
   "mimetype": "text/x-python",
   "name": "python",
   "nbconvert_exporter": "python",
   "pygments_lexer": "ipython3",
   "version": "3.8.8"
  }
 },
 "nbformat": 4,
 "nbformat_minor": 5
}
